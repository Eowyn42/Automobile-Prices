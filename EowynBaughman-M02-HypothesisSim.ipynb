{
 "cells": [
  {
   "cell_type": "markdown",
   "metadata": {},
   "source": [
    "# Milestone 2 - Hypothesis Simulation \n",
    "\n",
    "## Eowyn Baughman - Student name\n",
    "\n"
   ]
  },
  {
   "cell_type": "markdown",
   "metadata": {},
   "source": [
    "## Instructions\n",
    "Use the <a href=\"https://archive.ics.uci.edu/ml/datasets/Automobile\">automotive data set</a> to perform the following:\n",
    "\n",
    "1. Identify a likely distribution for price and several other features.\n",
    "2. Compute basic summary statistics by both classical, bootstrap and Bayesian methods\n",
    "3. Compute confidence intervals for the above summary statistics by classical, bootstrap and  Bayesian methods\n",
    "4. Correctly use hypothesis tests to determine if the differences in pairs and multiple populations are significant:\n",
    "            Classical tests\n",
    "            Tukey’s Honest Significant Differences (HSD)\n",
    "            Bootstrap methods\n",
    "            Bayesian model\n",
    "            \n",
    "**Grading Rubric:**\n",
    "1. Distribution and statistics\n",
    "  *  Uses classical, bootstrap, and Bayesian methods\n",
    "2. Confidence intervals\n",
    "  * Classical, bootstrap, and Bayes methods\n",
    "3. Hypothesis tests\n",
    "  * Classical, Tukey, bootstrap, and Bayes model\n",
    "4. New relationships explored\n",
    "  * 2+ attributes NOT fuel type, aspiration, drive-wheels, body style"
   ]
  },
  {
   "cell_type": "markdown",
   "metadata": {},
   "source": [
    "### Note\n",
    "Please clearly outline the results with markdown text. Be sure your discussion includes narrative for your figures and tables so it is clear to the reader the importance of each bit of evidence."
   ]
  },
  {
   "cell_type": "code",
   "execution_count": 93,
   "metadata": {
    "collapsed": true
   },
   "outputs": [],
   "source": [
    "fileName = \"https://library.startlearninglabs.uw.edu/DATASCI410/Datasets/Automobile%20price%20data%20_Raw_.csv\""
   ]
  },
  {
   "cell_type": "code",
   "execution_count": 94,
   "metadata": {
    "collapsed": true
   },
   "outputs": [],
   "source": [
    "# Load necessary libraries\n",
    "import pandas as pd\n",
    "import scipy.stats as ss\n",
    "import numpy.random as nr\n",
    "import statsmodels.stats.weightstats as ws\n",
    "import numpy as np\n",
    "from scipy.stats import kstest\n",
    "from sklearn.preprocessing import scale\n",
    "import sklearn.preprocessing as sp\n",
    "from scipy import stats\n",
    "import statsmodels.stats.weightstats as ws\n",
    "import matplotlib.pyplot as plt\n",
    "from statistics import mean\n",
    "from statsmodels.stats.multicomp import pairwise_tukeyhsd\n",
    "from operator import add\n",
    "import scipy"
   ]
  },
  {
   "cell_type": "markdown",
   "metadata": {},
   "source": [
    "** Preamble **\n",
    "\n",
    "This assignment was enormous. Between the various permutations in methods, features, statistics, and categories, I counted at least 60 separate \"things\" one had to solve to meet the requirements of the grading rubric, not including any narative, markdown, or figures, and not including cleaning the data and doing feature selection. There was significant ambiguity in terms of how many features/categories/stats which Yusuf addressed in canvas threads, inbox replies, and in-class answers. I've noted in my markdown where something was informed by something he said. I have done my level best, during almost three weeks of working on this, to meet every single requirement. I hope I got them all, and the narrative makes sense overall. "
   ]
  },
  {
   "cell_type": "code",
   "execution_count": 95,
   "metadata": {},
   "outputs": [
    {
     "name": "stdout",
     "output_type": "stream",
     "text": [
      "   symboling  normalized-losses  make fuel-type aspiration  num-of-doors  \\\n",
      "3          2                164  audi       gas        std             4   \n",
      "4          2                164  audi       gas        std             4   \n",
      "\n",
      "  body-style drive-wheels engine-location  wheel-base  ...    engine-size  \\\n",
      "3      sedan          fwd           front        99.8  ...            109   \n",
      "4      sedan          4wd           front        99.4  ...            136   \n",
      "\n",
      "   fuel-system  bore  stroke compression-ratio horsepower  peak-rpm city-mpg  \\\n",
      "3         mpfi  3.19     3.4              10.0        102      5500       24   \n",
      "4         mpfi  3.19     3.4               8.0        115      5500       18   \n",
      "\n",
      "   highway-mpg  price  \n",
      "3           30  13950  \n",
      "4           22  17450  \n",
      "\n",
      "[2 rows x 26 columns]\n"
     ]
    }
   ],
   "source": [
    "## Read the data into pandas data frame\n",
    "\n",
    "# Read data into pandas dataframe using function provided in class, modified to remove '?' from all cols where it exists\n",
    "# This involves recasting the num-doors from \"two\", \"four\", \"?\" to 2,4,'?'\n",
    "def read_auto_data(fileName = \"https://library.startlearninglabs.uw.edu/DATASCI410/Datasets/Automobile%20price%20data%20_Raw_.csv\"):\n",
    "    'Function to load the auto price data set from a .csv file' \n",
    "    import pandas as pd\n",
    "    import numpy as np\n",
    "\n",
    "    ## Read the .csv file with the pandas read_csv method\n",
    "    auto_price = pd.read_csv(fileName)\n",
    "    \n",
    "    ## Recast num-doors to integers to remove the '?' rows\n",
    "    auto_price.loc[auto_price['num-of-doors'] == 'four', 'num-of-doors'] = 4\n",
    "    auto_price.loc[auto_price['num-of-doors'] == 'two', 'num-of-doors'] = 2\n",
    "\n",
    "    ## Remove rows with missing values, accounting for mising values coded as '?'\n",
    "    cols = ['price', 'bore', 'stroke', 'num-of-doors',\n",
    "          'horsepower', 'peak-rpm', 'normalized-losses']\n",
    "    for column in cols:\n",
    "        auto_price.loc[auto_price[column] == '?', column] = np.nan\n",
    "    auto_price.dropna(axis = 0, inplace = True)\n",
    "\n",
    "    ## Convert some columns to numeric values\n",
    "    for column in cols:\n",
    "        auto_price[column] = pd.to_numeric(auto_price[column])\n",
    "        \n",
    "    return auto_price\n",
    "\n",
    "# Read autoprice and keep just the relevant columns\n",
    "auto_price = read_auto_data()\n",
    "print(auto_price.head(n=2))"
   ]
  },
  {
   "cell_type": "code",
   "execution_count": 96,
   "metadata": {},
   "outputs": [
    {
     "name": "stdout",
     "output_type": "stream",
     "text": [
      "<class 'pandas.core.frame.DataFrame'>\n",
      "Int64Index: 159 entries, 3 to 204\n",
      "Data columns (total 26 columns):\n",
      "symboling            159 non-null int64\n",
      "normalized-losses    159 non-null int64\n",
      "make                 159 non-null object\n",
      "fuel-type            159 non-null object\n",
      "aspiration           159 non-null object\n",
      "num-of-doors         159 non-null int64\n",
      "body-style           159 non-null object\n",
      "drive-wheels         159 non-null object\n",
      "engine-location      159 non-null object\n",
      "wheel-base           159 non-null float64\n",
      "length               159 non-null float64\n",
      "width                159 non-null float64\n",
      "height               159 non-null float64\n",
      "curb-weight          159 non-null int64\n",
      "engine-type          159 non-null object\n",
      "num-of-cylinders     159 non-null object\n",
      "engine-size          159 non-null int64\n",
      "fuel-system          159 non-null object\n",
      "bore                 159 non-null float64\n",
      "stroke               159 non-null float64\n",
      "compression-ratio    159 non-null float64\n",
      "horsepower           159 non-null int64\n",
      "peak-rpm             159 non-null int64\n",
      "city-mpg             159 non-null int64\n",
      "highway-mpg          159 non-null int64\n",
      "price                159 non-null int64\n",
      "dtypes: float64(7), int64(10), object(9)\n",
      "memory usage: 33.5+ KB\n",
      "None\n",
      "Numeric columns: ['symboling', 'normalized-losses', 'num-of-doors', 'wheel-base', 'length', 'width', 'height', 'curb-weight', 'engine-size', 'bore', 'stroke', 'compression-ratio', 'horsepower', 'peak-rpm', 'city-mpg', 'highway-mpg', 'price']\n",
      "String/object columns: ['make', 'fuel-type', 'aspiration', 'body-style', 'drive-wheels', 'engine-location', 'engine-type', 'num-of-cylinders', 'fuel-system']\n"
     ]
    }
   ],
   "source": [
    "# Check out the data: ensure no Null data\n",
    "print(auto_price.info())\n",
    "\n",
    "# Create a function to collect the column names for the various data types present\n",
    "def collect_columns_by_type(df):\n",
    "    strcols = []\n",
    "    numcols = []\n",
    "    for column in list(df):\n",
    "        if (df.loc[:,\"\"+column].dtype == 'int64') | (df.loc[:,\"\"+column].dtype == 'float64'):\n",
    "            numcols.append(column)\n",
    "        elif df.loc[:,\"\"+column].dtype == 'object':\n",
    "            strcols.append(column)\n",
    "        else:\n",
    "            print('some other type: {}'.format(auto_price.loc[:,\"\"+column].dtype))\n",
    "    return (strcols, numcols)\n",
    "\n",
    "strcols, numcols = collect_columns_by_type(auto_price)\n",
    "print(\"Numeric columns: {}\".format(numcols))\n",
    "print(\"String/object columns: {}\".format(strcols))"
   ]
  },
  {
   "cell_type": "code",
   "execution_count": 97,
   "metadata": {},
   "outputs": [
    {
     "name": "stdout",
     "output_type": "stream",
     "text": [
      "Unique values of make: ['audi' 'bmw' 'chevrolet' 'dodge' 'honda' 'jaguar' 'mazda' 'mercedes-benz'\n",
      " 'mitsubishi' 'nissan' 'peugot' 'plymouth' 'porsche' 'saab' 'subaru'\n",
      " 'toyota' 'volkswagen' 'volvo']\n",
      "Unique values of fuel-type: ['gas' 'diesel']\n",
      "Unique values of aspiration: ['std' 'turbo']\n",
      "Unique values of body-style: ['sedan' 'hatchback' 'wagon' 'hardtop' 'convertible']\n",
      "Unique values of drive-wheels: ['fwd' '4wd' 'rwd']\n",
      "Unique values of engine-location: ['front']\n",
      "Unique values of engine-type: ['ohc' 'l' 'dohc' 'ohcv' 'ohcf']\n",
      "Unique values of num-of-cylinders: ['four' 'five' 'six' 'three' 'eight']\n",
      "Unique values of fuel-system: ['mpfi' '2bbl' 'mfi' '1bbl' 'idi' 'spdi']\n"
     ]
    }
   ],
   "source": [
    "# Check out the unique values, which will also show '?' if present. This is how I found the ? in num-of-doors!\n",
    "for column in strcols:\n",
    "    print(\"Unique values of {}: {}\".format(column, auto_price.loc[:,\"\"+column].unique()))\n",
    "\n",
    "#for column in intcols:\n",
    "#    print(\"Unique values of {}: {}\".format(column, auto_price.loc[:,\"\"+column].unique()))"
   ]
  },
  {
   "cell_type": "markdown",
   "metadata": {},
   "source": [
    "Engine-location only has one unique value, so we won't bother exploring along that axis. We've done a lot with fuel-type and aspiration already, and some work with drive-wheels and body-style, so I think we should not focus on these, either. Let's explore efficiency in terms of city-mpg and highway-mpg; we may end up taking an average of these if they're well-correlated. How does efficiency depend on the following: curb-weight, engine-size, price (all numerics), engine-type, num-of-cylinders (categorical)?\n",
    "\n",
    "I'm also interested in the car maker, but there are lots of them; what about their countries of origin (determined by headquarters) ? There is 1 French car, 1 UK car, 2 Swedish cars, 3 American cars,  5 German cars, and 6 Japanese cars. Reducing the categories from 18 to 5 (possibly 3, if there are very few french & UK cars) would make it a lot easier to analyze, and possibly more informative, so I'm going to do that in order to include \"make-origin\" as a feature.\n",
    "\n",
    "['audi - german' 'bmw - german' 'chevrolet - usa' 'dodge - usa' 'honda - japan' 'jaguar - uk' 'mazda - japan' 'mercedes-benz - german'\n",
    " 'mitsubishi - japan' 'nissan - japan' 'peugot - french' 'plymouth - usa' 'porsche - german' 'saab - sweden' 'subaru - japan'\n",
    " 'toyota - japan' 'volkswagen - german' 'volvo - sweden']"
   ]
  },
  {
   "cell_type": "code",
   "execution_count": 98,
   "metadata": {
    "collapsed": true
   },
   "outputs": [],
   "source": [
    "# Recode cars by their company's country of origin\n",
    "auto_price.loc[auto_price['make'] == 'peugot', 'make-origin'] = 'france'\n",
    "auto_price.loc[auto_price['make'] == 'jaguar', 'make-origin'] = 'uk'\n",
    "auto_price.loc[(auto_price['make'] == 'saab') | (auto_price['make'] == 'volvo') , 'make-origin'] = 'sweden'\n",
    "auto_price.loc[(auto_price['make'] == 'chevrolet') | (auto_price['make'] == 'dodge') | (auto_price['make'] == 'plymouth') \n",
    "               , 'make-origin'] = 'usa'\n",
    "auto_price.loc[(auto_price['make'] == 'audi') | (auto_price['make'] == 'bmw') | (auto_price['make'] == 'mercedes-benz') |\n",
    "               (auto_price['make'] == 'porsche') | (auto_price['make'] == 'volkswagen') , 'make-origin'] = 'germany'\n",
    "auto_price.loc[(auto_price['make'] == 'honda') | (auto_price['make'] == 'mazda') | (auto_price['make'] == 'mitsubishi') |\n",
    "               (auto_price['make'] == 'nissan') | (auto_price['make'] == 'subaru') | (auto_price['make'] == 'toyota') \n",
    "               , 'make-origin'] = 'japan'\n",
    "assert (auto_price.loc[(auto_price['make-origin'] != 'japan') & (auto_price['make-origin'] != 'usa') &\n",
    "                     (auto_price['make-origin'] != 'sweden') & (auto_price['make-origin'] != 'france') &\n",
    "                     (auto_price['make-origin'] != 'germany') & (auto_price['make-origin'] != 'uk'), \"make\"]).empty"
   ]
  },
  {
   "cell_type": "code",
   "execution_count": 99,
   "metadata": {},
   "outputs": [
    {
     "name": "stdout",
     "output_type": "stream",
     "text": [
      "             city-mpg  highway-mpg\n",
      "city-mpg     1.000000     0.971999\n",
      "highway-mpg  0.971999     1.000000\n",
      "    city-mpg  highway-mpg   mpg\n",
      "3         24           30  27.0\n",
      "4         18           22  20.0\n",
      "6         19           25  22.0\n",
      "8         17           20  18.5\n",
      "10        23           29  26.0\n"
     ]
    }
   ],
   "source": [
    "# Check the correlation on the mpg variables\n",
    "print(auto_price.loc[:, [\"city-mpg\",\"highway-mpg\"]].corr())\n",
    "\n",
    "# As suspected, they're highly correlated, so let's create a new column representing their average:\n",
    "auto_price[\"mpg\"] = auto_price.loc[:, [\"city-mpg\",\"highway-mpg\"]].mean(axis=1)\n",
    "print(auto_price.loc[:, [\"city-mpg\",\"highway-mpg\",\"mpg\"]].head())"
   ]
  },
  {
   "cell_type": "code",
   "execution_count": 100,
   "metadata": {},
   "outputs": [
    {
     "name": "stdout",
     "output_type": "stream",
     "text": [
      "symboling            0.121411\n",
      "normalized-losses   -0.212861\n",
      "num-of-doors        -0.164433\n",
      "wheel-base          -0.600869\n",
      "length              -0.729694\n",
      "width               -0.685205\n",
      "height              -0.214825\n",
      "curb-weight         -0.781625\n",
      "engine-size         -0.711829\n",
      "bore                -0.594826\n",
      "stroke              -0.016508\n",
      "compression-ratio    0.250848\n",
      "horsepower          -0.838328\n",
      "peak-rpm            -0.042863\n",
      "city-mpg             0.992563\n",
      "highway-mpg          0.993376\n",
      "price               -0.711577\n",
      "Name: mpg, dtype: float64\n"
     ]
    }
   ],
   "source": [
    "# What are the correlations between mpg and all the other variables?\n",
    "print(auto_price.corr()['mpg'][:-1])"
   ]
  },
  {
   "cell_type": "code",
   "execution_count": 101,
   "metadata": {},
   "outputs": [
    {
     "name": "stdout",
     "output_type": "stream",
     "text": [
      "    mpg  curb-weight  price  engine-size engine-type num-of-cylinders  \\\n",
      "3  27.0         2337  13950          109         ohc             four   \n",
      "4  20.0         2824  17450          136         ohc             five   \n",
      "6  22.0         2844  17710          136         ohc             five   \n",
      "\n",
      "  make-origin  \n",
      "3     germany  \n",
      "4     germany  \n",
      "6     germany  \n"
     ]
    }
   ],
   "source": [
    "# Subset the dataframe to reduce it to the variables we will be exploring\n",
    "cols = ['mpg', 'curb-weight', 'price', 'engine-size', 'engine-type', 'num-of-cylinders', 'make-origin']\n",
    "auto_price = auto_price[cols]\n",
    "print(auto_price.head(n=3))"
   ]
  },
  {
   "cell_type": "code",
   "execution_count": 102,
   "metadata": {},
   "outputs": [
    {
     "name": "stdout",
     "output_type": "stream",
     "text": [
      "                  mpg  curb-weight     price  engine-size\n",
      "mpg          1.000000    -0.781625 -0.711577    -0.711829\n",
      "curb-weight -0.781625     1.000000  0.893639     0.888626\n",
      "price       -0.711577     0.893639  1.000000     0.841496\n",
      "engine-size -0.711829     0.888626  0.841496     1.000000\n"
     ]
    }
   ],
   "source": [
    "# Any obvious correlations in our numerics?\n",
    "print(auto_price.corr())"
   ]
  },
  {
   "cell_type": "markdown",
   "metadata": {},
   "source": [
    "There are fairly sizable correlations among the different variables. We would not want to include pairs of these variables in a regression analysis."
   ]
  },
  {
   "cell_type": "markdown",
   "metadata": {},
   "source": [
    "** Part one: Identify a likely distribution for price and several other features**"
   ]
  },
  {
   "cell_type": "code",
   "execution_count": 103,
   "metadata": {
    "scrolled": true
   },
   "outputs": [
    {
     "name": "stdout",
     "output_type": "stream",
     "text": [
      "Numeric columns: ['mpg', 'curb-weight', 'price', 'engine-size']\n",
      "String/object columns: ['engine-type', 'num-of-cylinders', 'make-origin']\n"
     ]
    },
    {
     "data": {
      "image/png": "[encoded data removed]",
      "text/plain": [
       "<matplotlib.figure.Figure at 0x2573db1f588>"
      ]
     },
     "metadata": {},
     "output_type": "display_data"
    }
   ],
   "source": [
    "# Collect column names by type for plotting and analysis\n",
    "strcols, numcols = collect_columns_by_type(auto_price)\n",
    "print(\"Numeric columns: {}\".format(numcols))\n",
    "print(\"String/object columns: {}\".format(strcols))\n",
    "\n",
    "# Function to plot histogram of several variables\n",
    "def subplot_hist(df, cols):\n",
    "    %matplotlib inline\n",
    "    fig = plt.figure(figsize=(8, 8)) # define figure\n",
    "    nplot = 221\n",
    "    for var in cols:\n",
    "        fig.add_subplot(nplot) ## setup the subplot\n",
    "        plt.hist(df.loc[:,\"\"+var]) ## Plot the subplot\n",
    "        fig.gca().set_title(\"Histogram of {}\".format(var))  # Give each subplot a title; MUST be done just like so\n",
    "        nplot += 1\n",
    "    plt.tight_layout()\n",
    "    plt.show()\n",
    "\n",
    "subplot_hist(auto_price, numcols)"
   ]
  },
  {
   "cell_type": "markdown",
   "metadata": {},
   "source": [
    "MPG looks normal, curb weight, and price look normal-ish. I will test their distributions, and also the log of those values, as often the log of something looks more normal than the thing itself."
   ]
  },
  {
   "cell_type": "code",
   "execution_count": 104,
   "metadata": {},
   "outputs": [
    {
     "name": "stdout",
     "output_type": "stream",
     "text": [
      "log-mpg vs norm has KS-stat: 0.087677 and P-value: 16.353715% with args []\n",
      "log-curb-weight vs norm has KS-stat: 0.103151 and P-value: 6.312373% with args []\n",
      "log-price vs norm has KS-stat: 0.119748 and P-value: 1.915463% with args []\n",
      "log-engine-size vs norm has KS-stat: 0.156004 and P-value: 0.075992% with args []\n"
     ]
    },
    {
     "data": {
      "image/png": "[encoded data removed]",
      "text/plain": [
       "<matplotlib.figure.Figure at 0x2573d79dcf8>"
      ]
     },
     "metadata": {},
     "output_type": "display_data"
    },
    {
     "name": "stdout",
     "output_type": "stream",
     "text": [
      "mpg vs norm has KS-stat: 0.100821 and P-value: 7.357506% with args []\n",
      "curb-weight vs norm has KS-stat: 0.140044 and P-value: 0.349619% with args []\n",
      "price vs norm has KS-stat: 0.190859 and P-value: 0.001514% with args []\n",
      "engine-size vs norm has KS-stat: 0.186881 and P-value: 0.002465% with args []\n"
     ]
    },
    {
     "name": "stderr",
     "output_type": "stream",
     "text": [
      "C:\\Users\\eowyn\\Anaconda3\\lib\\site-packages\\sklearn\\utils\\validation.py:475: DataConversionWarning: Data with input dtype int64 was converted to float64 by the scale function.\n",
      "  warnings.warn(msg, DataConversionWarning)\n"
     ]
    },
    {
     "data": {
      "image/png": "[encoded data removed]",
      "text/plain": [
       "<matplotlib.figure.Figure at 0x2573d888ac8>"
      ]
     },
     "metadata": {},
     "output_type": "display_data"
    }
   ],
   "source": [
    "# Create a function to calcuate Kolmogorov Smirnov stats for distribution against several options\n",
    "# Recall that kstest must operate on scaled/normalized data\n",
    "def ks_test(df, cols, args = [], dist = 'norm', log = False):\n",
    "    from scipy.stats import kstest \n",
    "    from sklearn.preprocessing import scale\n",
    "    for var in cols:\n",
    "        if log:\n",
    "            x = np.log(df.loc[:,\"\"+var])\n",
    "            var = 'log-' + var\n",
    "        else:\n",
    "            x = df.loc[:,\"\"+var]\n",
    "        ks_stat, pvalue = kstest(scale(x), dist, args)\n",
    "        print(\"{} vs {} has KS-stat: {:2f} and P-value: {:2%} with args {}\".format(var, dist, ks_stat, pvalue, args))\n",
    "\n",
    "# Plot the quantiles. Scipy's probplot method plots against the standard normal by default\n",
    "def plot_qq(df, cols, ddist = 'norm', args = (), log = False):\n",
    "    %matplotlib inline\n",
    "    fig = plt.figure(figsize=(10, 8)) # define figure\n",
    "    nplot = 221\n",
    "    for var in cols:\n",
    "        fig.add_subplot(nplot) ## setup the left subplot\n",
    "        if log:\n",
    "            x = np.log(df.loc[:,\"\"+var])\n",
    "            var = 'log-' + var\n",
    "        else:\n",
    "            x = df.loc[:,\"\"+var]\n",
    "        ss.probplot(x, plot = fig.gca(), dist = ddist, sparams = args) ## Plot the left subplot\n",
    "        fig.gca().set_title(\"Q-Q of {}\".format(var))  # Give each subplot a title; MUST be done just like so\n",
    "        nplot += 1\n",
    "    plt.tight_layout()\n",
    "    plt.show()\n",
    "    \n",
    "ks_test(auto_price, numcols, log = True)\n",
    "plot_qq(auto_price, numcols, log = True)\n",
    "ks_test(auto_price, numcols, log = False)\n",
    "plot_qq(auto_price, numcols, log = False)"
   ]
  },
  {
   "cell_type": "markdown",
   "metadata": {},
   "source": [
    "Interpretting the prob plots and K-S and P-vals is a bit tricky so let's be clear: the sigma level is 0.05 (5%) on a hypothesis \"the distribution of the data is normal\". So a p-val > 5% means \"cannot reject the null hypothesis\" which isn't to say it is definitely normal, but that plus a Q-Q plot that falls along a 1:1 line is good indication that the normal distribution is a good representation of the data. From these, we can say that MPG and log-Curb-Weight are normally distributed, but price and engine size are not well represented by the normal distribution (or their log forms). I will try to fit other forms of distributions for these variables.  "
   ]
  },
  {
   "cell_type": "code",
   "execution_count": 105,
   "metadata": {},
   "outputs": [
    {
     "name": "stdout",
     "output_type": "stream",
     "text": [
      "price vs weibull_min has KS-stat: 0.076651 and P-value: 29.340642% with args [1.0979788466790135, -1.080999115545888, 1.1202913711948521]\n"
     ]
    },
    {
     "name": "stderr",
     "output_type": "stream",
     "text": [
      "C:\\Users\\eowyn\\Anaconda3\\lib\\site-packages\\sklearn\\utils\\validation.py:475: DataConversionWarning: Data with input dtype int64 was converted to float64 by the scale function.\n",
      "  warnings.warn(msg, DataConversionWarning)\n"
     ]
    },
    {
     "data": {
      "image/png": "[encoded data removed]",
      "text/plain": [
       "<matplotlib.figure.Figure at 0x2573dcb05c0>"
      ]
     },
     "metadata": {},
     "output_type": "display_data"
    }
   ],
   "source": [
    "# Fit a weibull to price and engine size\n",
    "from scipy.stats import weibull_min\n",
    "a, b, c = weibull_min.fit(sp.scale(auto_price.loc[:,'price']))\n",
    "ks_test(auto_price, [\"price\"], args = [a, b, c], dist = 'weibull_min', log = False)\n",
    "plot_qq(auto_price, [\"price\"], ddist = 'weibull_min', args = (a,b,c), log = False)\n"
   ]
  },
  {
   "cell_type": "markdown",
   "metadata": {},
   "source": [
    "OK! We fit a Weibull distribution to the price data and the K-S resulting p-value suggests the distribution is not statistically different from the fitted Weibull. \n",
    "\n",
    "Now the last variable to fit is engine size. We will try several forms."
   ]
  },
  {
   "cell_type": "code",
   "execution_count": 106,
   "metadata": {},
   "outputs": [
    {
     "name": "stderr",
     "output_type": "stream",
     "text": [
      "C:\\Users\\eowyn\\Anaconda3\\lib\\site-packages\\sklearn\\utils\\validation.py:475: DataConversionWarning: Data with input dtype int64 was converted to float64 by the scale function.\n",
      "  warnings.warn(msg, DataConversionWarning)\n"
     ]
    },
    {
     "name": "stdout",
     "output_type": "stream",
     "text": [
      "engine-size vs weibull_min has KS-stat: 0.498305 and P-value: 0.000000% with args [0.96095965262398253, -1.9175596842200959, 1.3537610286443513]\n"
     ]
    },
    {
     "data": {
      "image/png": "[encoded data removed]",
      "text/plain": [
       "<matplotlib.figure.Figure at 0x2573dd44470>"
      ]
     },
     "metadata": {},
     "output_type": "display_data"
    },
    {
     "name": "stderr",
     "output_type": "stream",
     "text": [
      "C:\\Users\\eowyn\\Anaconda3\\lib\\site-packages\\scipy\\stats\\_continuous_distns.py:412: RuntimeWarning: invalid value encountered in sqrt\n",
      "  sk = 2*(b-a)*np.sqrt(a + b + 1) / (a + b + 2) / np.sqrt(a*b)\n"
     ]
    },
    {
     "name": "stdout",
     "output_type": "stream",
     "text": [
      "engine-size vs beta has KS-stat: 0.139509 and P-value: 0.366912% with args [4.2405799838351133, 4235772.4190568067, -2.0390724354074981, 2064681.4822225263]\n"
     ]
    },
    {
     "data": {
      "image/png": "[encoded data removed]",
      "text/plain": [
       "<matplotlib.figure.Figure at 0x2573d22b7f0>"
      ]
     },
     "metadata": {},
     "output_type": "display_data"
    },
    {
     "name": "stdout",
     "output_type": "stream",
     "text": [
      "engine-size vs gamma has KS-stat: 0.143435 and P-value: 0.256350% with args [5.1586246706090355, -2.1089293382375516, 0.40881511043171737]\n"
     ]
    },
    {
     "data": {
      "image/png": "[encoded data removed]",
      "text/plain": [
       "<matplotlib.figure.Figure at 0x2573df534a8>"
      ]
     },
     "metadata": {},
     "output_type": "display_data"
    },
    {
     "name": "stdout",
     "output_type": "stream",
     "text": [
      "engine-size vs rayleigh has KS-stat: 0.171191 and P-value: 0.015228% with args [-1.9500668176582998, 1.5496624783669657]\n"
     ]
    },
    {
     "data": {
      "image/png": "[encoded data removed]",
      "text/plain": [
       "<matplotlib.figure.Figure at 0x2573db22550>"
      ]
     },
     "metadata": {},
     "output_type": "display_data"
    }
   ],
   "source": [
    "a, b, c = weibull_min.fit(sp.scale(auto_price.loc[:,'engine-size']))\n",
    "ks_test(auto_price, [\"engine-size\"], args = [a, b, c], dist = 'weibull_min', log = False)\n",
    "plot_qq(auto_price, [\"engine-size\"], ddist = 'weibull_min', args = (a,b,c), log = False)\n",
    "\n",
    "from scipy.stats import beta\n",
    "a, b, c, d = beta.fit(sp.scale(auto_price.loc[:,'engine-size']))\n",
    "ks_test(auto_price, [\"engine-size\"], args = [a, b, c, d], dist = 'beta', log = False)\n",
    "plot_qq(auto_price, [\"engine-size\"], ddist = 'beta', args = (a,b,c,d), log = False)\n",
    "\n",
    "from scipy.stats import gamma\n",
    "a, b, c = gamma.fit(sp.scale(auto_price.loc[:, 'engine-size']))\n",
    "ks_test(auto_price, [\"engine-size\"], args = [a, b, c], dist = 'gamma', log = False)\n",
    "plot_qq(auto_price, [\"engine-size\"], ddist = 'gamma', args = (a,b,c), log = False)\n",
    "\n",
    "\n",
    "from scipy.stats import rayleigh\n",
    "a, b = rayleigh.fit(sp.scale(auto_price.loc[:, 'engine-size']))\n",
    "ks_test(auto_price, [\"engine-size\"], args = [a, b], dist = 'rayleigh', log = False)\n",
    "plot_qq(auto_price, [\"engine-size\"], ddist = 'rayleigh', args = (a,b), log = False)"
   ]
  },
  {
   "cell_type": "markdown",
   "metadata": {},
   "source": [
    "I cannot find a fitted distribution that is a good representation for engine-size. I'm going to drop it; it is pretty well correlated with curb-weight, anyway, and that we do have a good distribtion fitted for."
   ]
  },
  {
   "cell_type": "code",
   "execution_count": 107,
   "metadata": {},
   "outputs": [
    {
     "data": {
      "text/html": [
       "<div>\n",
       "<style>\n",
       "    .dataframe thead tr:only-child th {\n",
       "        text-align: right;\n",
       "    }\n",
       "\n",
       "    .dataframe thead th {\n",
       "        text-align: left;\n",
       "    }\n",
       "\n",
       "    .dataframe tbody tr th {\n",
       "        vertical-align: top;\n",
       "    }\n",
       "</style>\n",
       "<table border=\"1\" class=\"dataframe\">\n",
       "  <thead>\n",
       "    <tr style=\"text-align: right;\">\n",
       "      <th></th>\n",
       "      <th>index</th>\n",
       "      <th>mpg</th>\n",
       "      <th>curb-weight</th>\n",
       "      <th>price</th>\n",
       "      <th>engine-type</th>\n",
       "      <th>num-of-cylinders</th>\n",
       "      <th>make-origin</th>\n",
       "    </tr>\n",
       "  </thead>\n",
       "  <tbody>\n",
       "    <tr>\n",
       "      <th>0</th>\n",
       "      <td>3</td>\n",
       "      <td>27.0</td>\n",
       "      <td>2337</td>\n",
       "      <td>13950</td>\n",
       "      <td>ohc</td>\n",
       "      <td>four</td>\n",
       "      <td>germany</td>\n",
       "    </tr>\n",
       "    <tr>\n",
       "      <th>1</th>\n",
       "      <td>4</td>\n",
       "      <td>20.0</td>\n",
       "      <td>2824</td>\n",
       "      <td>17450</td>\n",
       "      <td>ohc</td>\n",
       "      <td>five</td>\n",
       "      <td>germany</td>\n",
       "    </tr>\n",
       "    <tr>\n",
       "      <th>2</th>\n",
       "      <td>6</td>\n",
       "      <td>22.0</td>\n",
       "      <td>2844</td>\n",
       "      <td>17710</td>\n",
       "      <td>ohc</td>\n",
       "      <td>five</td>\n",
       "      <td>germany</td>\n",
       "    </tr>\n",
       "    <tr>\n",
       "      <th>3</th>\n",
       "      <td>8</td>\n",
       "      <td>18.5</td>\n",
       "      <td>3086</td>\n",
       "      <td>23875</td>\n",
       "      <td>ohc</td>\n",
       "      <td>five</td>\n",
       "      <td>germany</td>\n",
       "    </tr>\n",
       "    <tr>\n",
       "      <th>4</th>\n",
       "      <td>10</td>\n",
       "      <td>26.0</td>\n",
       "      <td>2395</td>\n",
       "      <td>16430</td>\n",
       "      <td>ohc</td>\n",
       "      <td>four</td>\n",
       "      <td>germany</td>\n",
       "    </tr>\n",
       "  </tbody>\n",
       "</table>\n",
       "</div>"
      ],
      "text/plain": [
       "   index   mpg  curb-weight  price engine-type num-of-cylinders make-origin\n",
       "0      3  27.0         2337  13950         ohc             four     germany\n",
       "1      4  20.0         2824  17450         ohc             five     germany\n",
       "2      6  22.0         2844  17710         ohc             five     germany\n",
       "3      8  18.5         3086  23875         ohc             five     germany\n",
       "4     10  26.0         2395  16430         ohc             four     germany"
      ]
     },
     "execution_count": 107,
     "metadata": {},
     "output_type": "execute_result"
    }
   ],
   "source": [
    "# Drop the engine size column, and go ahead and reset the index\n",
    "auto_price.drop(['engine-size'], axis = 1, inplace = True)\n",
    "numcols.remove('engine-size')\n",
    "auto_price.reset_index(inplace = True)\n",
    "auto_price.head()"
   ]
  },
  {
   "cell_type": "markdown",
   "metadata": {},
   "source": [
    "** Part two: Compute basic summary statistics by both classical, bootstrap and Bayesian methods **\n",
    "\n",
    "For the sake of simplicity, I am defining \"summary statistics\" to include mean and standard deviation only."
   ]
  },
  {
   "cell_type": "code",
   "execution_count": 108,
   "metadata": {},
   "outputs": [
    {
     "name": "stdout",
     "output_type": "stream",
     "text": [
      "The classical averages are:\n",
      " mpg               29.301887\n",
      "curb-weight     2461.138365\n",
      "price          11445.729560\n",
      "dtype: float64\n",
      "The classical stdevs are:\n",
      " mpg               6.234098\n",
      "curb-weight     481.941321\n",
      "price          5877.856195\n",
      "dtype: float64\n"
     ]
    }
   ],
   "source": [
    "# Classical summary statistics: these are easy built-ins. Record the results as a series to put in a table later.\n",
    "classical_aves = auto_price.mean(axis=0)[1:] # don't include index\n",
    "classical_stds = auto_price.std(axis=0)[1:] # don't include index\n",
    "print(\"The classical averages are:\\n {}\".format(classical_aves))\n",
    "print(\"The classical stdevs are:\\n {}\".format(classical_stds))"
   ]
  },
  {
   "cell_type": "code",
   "execution_count": 109,
   "metadata": {},
   "outputs": [
    {
     "name": "stdout",
     "output_type": "stream",
     "text": [
      "            index         mpg  curb-weight         price\n",
      "count  159.000000  159.000000   159.000000    159.000000\n",
      "mean   109.044025   29.301887  2461.138365  11445.729560\n",
      "std     58.413123    6.234098   481.941321   5877.856195\n",
      "min      3.000000   17.000000  1488.000000   5118.000000\n",
      "25%     60.500000   25.000000  2065.500000   7372.000000\n",
      "50%    111.000000   29.000000  2340.000000   9233.000000\n",
      "75%    159.500000   34.000000  2809.500000  14719.500000\n",
      "max    204.000000   51.500000  4066.000000  35056.000000\n"
     ]
    }
   ],
   "source": [
    "# More summary stats: This is easy so let's get a bigger set of classical statistics\n",
    "print(auto_price.describe())"
   ]
  },
  {
   "cell_type": "code",
   "execution_count": 110,
   "metadata": {},
   "outputs": [
    {
     "name": "stdout",
     "output_type": "stream",
     "text": [
      "                  BS Mean      BS StD\n",
      "mpg             29.328434    0.484639\n",
      "curb-weight   2460.385220   38.689766\n",
      "price        11422.704862  469.989318\n"
     ]
    }
   ],
   "source": [
    "# Bootstrap summary statistics: Calculate the classical mean, but on a whole bunch of \n",
    "# samples created by sampling, with replacement, from the original distribution. \n",
    "\n",
    "# a function to calculate and print the means and standard deviations using Bootstrapping\n",
    "def calc_bootstrap_stats(df, cols, n_replicas = 1000):\n",
    "    bs_stats = pd.DataFrame() # empty dataframe to store results \n",
    "    for var in cols:\n",
    "        x = df.loc[:,\"\"+var]\n",
    "        bootstrap_means = pd.Series([x.sample(frac=1, replace=True).mean() for i in range(n_replicas)])\n",
    "        bootstrap_stds = pd.Series([x.sample(frac=1, replace=True).std() for i in range(n_replicas)])\n",
    "        bs_stats.loc[\"\"+var, \"BS Mean\"] = bootstrap_means.mean()\n",
    "        bs_stats.loc[\"\"+var, \"BS StD\"] = bootstrap_means.std()\n",
    "    return bs_stats\n",
    "\n",
    "df = calc_bootstrap_stats(auto_price, numcols)\n",
    "print(df)"
   ]
  },
  {
   "cell_type": "raw",
   "metadata": {},
   "source": [
    "The means of MPG, Curb-Weight, and Price are quite similar regardless if you use the classical mean or a bootstrap mean. This gives us a bit of confidence that our 200 datapoints are representative of a broader sample, though to be clear we haven't shown that definitively. The standard deviations are MUCH smaller for the bootstrap distribution than for the original distribution, which makes sense -- once you take many many samplings of a WELL_BEHAVED population, you would expect the standard deviation to narrow. That isn't true if the distribution has outliers, clustering, unevenness, or otherwise just not well behaved. "
   ]
  },
  {
   "cell_type": "markdown",
   "metadata": {},
   "source": [
    "**Bayesian Summary Statistics**\n",
    "1. Need to choose a prior: We fit distributions, so let's try to use conjugate-priors\n",
    "    * For mpg and log-curb-weight (normally distributed), conj prior is normal or inverse normal\n",
    "    * For price (weibull distribution, params fitted), conj prior is not precisely solved for, but good approximations exist in the form of inverse gamma functions (see https://www.johndcook.com/CompendiumOfConjugatePriors.pdf p.21, which also gives a form of a likelihood function)\n",
    "    * Yusuf told me in class that implementing the weibull solution would be \"beyond the scope of this assignment\" but for completion I do need to do the price-variable, so I will be using a Normal form for the log-price, similar to curb-weight\n",
    "2. Need to calculate the likelihood function: provided in class for the normal, and in that paper for the inverse gamma\n",
    "3. Need to calculate the posterior distribution, and find its mean/std: which is simple once you have the prior and likelihood\n"
   ]
  },
  {
   "cell_type": "code",
   "execution_count": 111,
   "metadata": {},
   "outputs": [],
   "source": [
    "# NORMALLY DISTRIBUTED VARIABLES: MPG and log-Curb-weight and log-price\n",
    "\n",
    "# likelihood function for gaussian variables. x should be the binned variable, \n",
    "def comp_like_gauss(p, x, islog = False): \n",
    "    import numpy as np\n",
    "    variance = np.std(x)**2 # sigmasqr\n",
    "    x_mean = np.asarray(x).mean()  # xbar\n",
    "    n = len(x)\n",
    "    l = np.exp(-n * np.square(x_mean - p) / (2 * variance))\n",
    "    return l / l.sum()\n",
    "\n",
    "# function to create posterior distributonon give prior and likelihood function\n",
    "def posterior(prior, like):\n",
    "    post = prior * like # compute the product of the probabilities\n",
    "    return post / sum(post) # normalize the distribution to sum to unity\n",
    "\n",
    "# Baysian Credible Interval, which is not quite the same as a confidence interval, but is the closest analog\n",
    "def print_ci(p, post, num_samples = 1000, lower_q = 0.025, upper_q = 0.975, islog = False):\n",
    "    import scipy\n",
    "    from matplotlib import pyplot\n",
    "    import numpy as np\n",
    "    ## This function computes a credible interval using an assumption\n",
    "    ## of symmetry in the bulk of the distribution to keep the \n",
    "    ## calculation simple. \n",
    "    ## Compute a large sample by resampling with replacement\n",
    "    # p: parameter space values \n",
    "    # post: posterior distribution\n",
    "    # num_samples: number of samples to generate from p\n",
    "    # lower_q: lower percentile of range\n",
    "    # upper_q: upper percentile of range\n",
    "    samples = np.random.choice(p, size=num_samples, replace=True, p=post)\n",
    "    ci = scipy.percentile(samples, [lower_q*100, upper_q*100]) # compute the quantiles\n",
    "    interval = upper_q - lower_q\n",
    "    if islog:\n",
    "        print('The {:.3f} credible interval is {:.3f} to {:.3f}'.format(interval, np.exp(ci[0]), np.exp(ci[1])))\n",
    "    else:\n",
    "        print('The %.3f credible interval is %.3f to %.3f' % (interval, ci[0], ci[1]))\n",
    "    \n",
    "# Find and return the mean of a posterior distribution\n",
    "def bayes_mean(p, post, islog = False):\n",
    "    # p: parameter space values \n",
    "    # post: posterior distribution\n",
    "    import operator\n",
    "    import numpy as np\n",
    "    max_index, max_value = max(enumerate(post), key=operator.itemgetter(1))\n",
    "    assert post[max_index] == max(post)\n",
    "    if islog:\n",
    "        return np.exp(p[max_index])\n",
    "    else:\n",
    "        return p[max_index]\n",
    "                                                                                                                                    "
   ]
  },
  {
   "cell_type": "code",
   "execution_count": 112,
   "metadata": {},
   "outputs": [
    {
     "name": "stdout",
     "output_type": "stream",
     "text": [
      "MPG\n",
      "The 0.950 credible interval is 28.257 to 30.227\n",
      "The Baysian mean is: 29.294\n"
     ]
    },
    {
     "data": {
      "text/plain": [
       "Text(0.5,1,'MPG: Bayes')"
      ]
     },
     "execution_count": 112,
     "metadata": {},
     "output_type": "execute_result"
    },
    {
     "data": {
      "image/png": "[encoded data removed]",
      "text/plain": [
       "<matplotlib.figure.Figure at 0x2573dba1b70>"
      ]
     },
     "metadata": {},
     "output_type": "display_data"
    }
   ],
   "source": [
    "# compute prior, likelihood and posterior. Calculate the Credible Interval (CI) at this time.\n",
    "# CI only applies to the mean\n",
    "\n",
    "# First do MPG\n",
    "vec = auto_price.mpg\n",
    "print(\"MPG\")\n",
    "\n",
    "N = 1000\n",
    "p = np.linspace(min(vec), max(vec), num=N)\n",
    "\n",
    "# create a prior\n",
    "# ou prior will look at values around the actual mean with a standard deviation of 5\n",
    "# visually we can see this is fairly diffuse (less informative prior)\n",
    "norm_prior = scipy.stats.norm.pdf(p, loc=vec.mean(), scale=5)\n",
    "norm_prior = norm_prior / norm_prior.sum() # normalize\n",
    "like = comp_like_gauss(p, vec)\n",
    "post = posterior(norm_prior, like)\n",
    "print_ci(p, post)\n",
    "print(\"The Baysian mean is: {0:.3f}\".format(bayes_mean(p,post)))\n",
    "plt.plot(p, norm_prior, label='prior')\n",
    "plt.plot(p, like, label='likelihood', alpha=.3, linewidth=10)\n",
    "plt.plot(p, post, label='posterior')\n",
    "plt.legend()\n",
    "plt.title(\"MPG: Bayes\")\n"
   ]
  },
  {
   "cell_type": "markdown",
   "metadata": {},
   "source": [
    "The Baysian mean of MPG is very similar to the Classical stats result, and very similar to the Bootstrap mean as well. I'm printing the 95% credible interval on the Bayes mean here as well, and we can see that the mean could possibly vary from 28.3 to 30.3 depending on the sampling."
   ]
  },
  {
   "cell_type": "code",
   "execution_count": 113,
   "metadata": {},
   "outputs": [
    {
     "name": "stdout",
     "output_type": "stream",
     "text": [
      "Curb-Weight\n",
      "The 0.950 credible interval is 2347.278 to 2485.843\n",
      "The Baysian mean is: 2416.783\n"
     ]
    },
    {
     "data": {
      "text/plain": [
       "Text(0.5,1,'Log-Curb Weight: Bayes')"
      ]
     },
     "execution_count": 113,
     "metadata": {},
     "output_type": "execute_result"
    },
    {
     "data": {
      "image/png": "[encoded data removed]",
      "text/plain": [
       "<matplotlib.figure.Figure at 0x2573d891208>"
      ]
     },
     "metadata": {},
     "output_type": "display_data"
    }
   ],
   "source": [
    "# Next do curb-weight whose log is normally distributed, so do the math on the log form then exponentiate to get final answer.\n",
    "# My functions that do the printing have \"islog\" boolean implemented to take care of returning the correct answer.\n",
    "vec = np.log(auto_price.loc[:,'curb-weight'])\n",
    "print(\"Curb-Weight\")\n",
    "\n",
    "N = 1000\n",
    "p = np.linspace(min(vec), max(vec), num=N)\n",
    "\n",
    "# create a prior\n",
    "# ou prior will look at values around the actual mean with a standard deviation of 5\n",
    "# visually we can see this is fairly diffuse (less informative prior)\n",
    "norm_prior = scipy.stats.norm.pdf(p, loc=vec.mean(), scale=5)\n",
    "norm_prior = norm_prior / norm_prior.sum() # normalize\n",
    "like = comp_like_gauss(p, vec, islog = True)\n",
    "post = posterior(norm_prior, like)\n",
    "print_ci(p, post, islog = True)\n",
    "print(\"The Baysian mean is: {0:.3f}\".format(bayes_mean(p,post, islog=True)))\n",
    "plt.plot(p, norm_prior, label='prior')\n",
    "plt.plot(p, like, label='likelihood', alpha=.3, linewidth=10)\n",
    "plt.plot(p, post, label='posterior')\n",
    "plt.legend()\n",
    "plt.title(\"Log-Curb Weight: Bayes\")"
   ]
  },
  {
   "cell_type": "markdown",
   "metadata": {},
   "source": [
    "The Baysian mean and standard deviation on curb weight are similar but a bit lower realtive to the Classical and Bootstrap means.I'm printing the 95% credible interval on the Bayes mean here as well, and we can see that the mean could possibly vary from 2747:2488 lbs depending on the sampling."
   ]
  },
  {
   "cell_type": "code",
   "execution_count": 114,
   "metadata": {},
   "outputs": [
    {
     "name": "stdout",
     "output_type": "stream",
     "text": [
      "Price\n",
      "The 0.950 credible interval is 9571.110 to 10994.873\n",
      "The Baysian mean is: 10297.914\n"
     ]
    },
    {
     "data": {
      "text/plain": [
       "Text(0.5,1,'Log-Price: Bayes')"
      ]
     },
     "execution_count": 114,
     "metadata": {},
     "output_type": "execute_result"
    },
    {
     "data": {
      "image/png": "[encoded data removed]",
      "text/plain": [
       "<matplotlib.figure.Figure at 0x2573d8c86d8>"
      ]
     },
     "metadata": {},
     "output_type": "display_data"
    }
   ],
   "source": [
    "# Finally do price whose log is normally distributed, so do the math on the log form then exponentiate to get final answer.\n",
    "# My functions that do the printing have \"islog\" boolean implemented to take care of returning the correct answer.\n",
    "vec = np.log(auto_price.loc[:,'price'])\n",
    "print(\"Price\")\n",
    "\n",
    "N = 1000\n",
    "p = np.linspace(min(vec), max(vec), num=N)\n",
    "\n",
    "# create a prior\n",
    "# ou prior will look at values around the actual mean with a standard deviation of 5\n",
    "# visually we can see this is fairly diffuse (less informative prior)\n",
    "norm_prior = scipy.stats.norm.pdf(p, loc=vec.mean(), scale=5)\n",
    "norm_prior = norm_prior / norm_prior.sum() # normalize\n",
    "like = comp_like_gauss(p, vec, islog = True)\n",
    "post = posterior(norm_prior, like)\n",
    "print_ci(p, post, islog = True)\n",
    "print(\"The Baysian mean is: {0:.3f}\".format(bayes_mean(p,post, islog=True)))\n",
    "plt.plot(p, norm_prior, label='prior')\n",
    "plt.plot(p, like, label='likelihood', alpha=.3, linewidth=10)\n",
    "plt.plot(p, post, label='posterior')\n",
    "plt.legend()\n",
    "plt.title(\"Log-Price: Bayes\")"
   ]
  },
  {
   "cell_type": "markdown",
   "metadata": {},
   "source": [
    "The Baysian mean and standard deviation on curb weight are similar but a bit lower realtive to the Classical and Bootstrap means. I'm printing the 95% credible interval on the Bayes mean here as well, and we can see that the mean could possibly vary from 9607 - 10995 $ depending on the sampling."
   ]
  },
  {
   "cell_type": "markdown",
   "metadata": {},
   "source": [
    "** Part three: Compute confidence intervals for the above summary statistics by:**\n",
    "1. classical methods - done\n",
    "2. bootstrap methods - done\n",
    "3. Bayesian methods ** - std not done. The CI on mean is presented up above where means, std calculated. Yusuf told me this was sufficient to get full credit.\n"
   ]
  },
  {
   "cell_type": "code",
   "execution_count": 115,
   "metadata": {},
   "outputs": [
    {
     "name": "stdout",
     "output_type": "stream",
     "text": [
      "--------------------MPG--------------------\n",
      "The classical mean of MPG is 29.30\n",
      "The classical 95.0% CI is 17.12 , 41.48\n",
      "The classical standard deviation of MPG is 6.21\n",
      "The classical 95.0% CI is 5.60 , 6.98\n",
      "--------------------Curb Weight--------------------\n",
      "The classical mean of Curb Weight is 2417.12\n",
      "The classical 95.0% CI is 1672.43 ,s 3493.39\n",
      "The classical standard deviation of MPG is 480.42\n",
      "The classical 95.0% CI is 432.79 , 539.93\n"
     ]
    }
   ],
   "source": [
    "# Classical Methods\n",
    "\n",
    "# Helper function to compute the classical confidence bounds on a gaussian standard deviation\n",
    "def classical_ci_std(vec):\n",
    "    # To compute the confidence interval on the standard deviation. \n",
    "    # Eqn from http://www.milefoot.com/math/stat/ci-variances.htm\n",
    "    from scipy.stats import chi2\n",
    "    degf = len(vec) - 1\n",
    "    variance = np.var(vec)\n",
    "    lower_chi2, upper_chi2 = chi2.isf(q= alpha/2, df=degf), chi2.isf(q= (1-alpha/2), df=degf)\n",
    "    ci_low, ci_high = np.sqrt(degf*variance/lower_chi2), np.sqrt(degf*variance/upper_chi2)\n",
    "    return ci_low, ci_high\n",
    "\n",
    "print(20*'-' + 'MPG' + 20*'-')\n",
    "# Classical confidence intervals:  MPG\n",
    "x = auto_price.mpg\n",
    "alpha = 0.05 # significance level\n",
    "half_width = scipy.stats.norm.ppf(1-alpha/2, scale = np.std(x))  # Half the PDF\n",
    "ci_low, ci_high = x.mean() - half_width,  x.mean() + half_width\n",
    "\n",
    "print('The classical mean of MPG is %.2f' % x.mean())\n",
    "print('The classical {}% CI is {:.2f} , {:.2f}'.format(100*(1-alpha), ci_low, ci_high))\n",
    "\n",
    "ci_low, ci_high = classical_ci_std(x)\n",
    "print('The classical standard deviation of MPG is %.2f' % np.std(x))\n",
    "print('The classical {}% CI is {:.2f} , {:.2f}'.format(100*(1-alpha), ci_low, ci_high))\n",
    "\n",
    "print(20*'-' + 'Curb Weight' + 20*'-')\n",
    "# Classical confidence intervals:  Curb Weight. The log is normal, so we work on logs and exponentiate for final numbers\n",
    "x = np.log(auto_price.loc[:,'curb-weight'])\n",
    "alpha = 0.05 # significance level\n",
    "half_width = scipy.stats.norm.ppf(1-alpha/2, scale = np.std(x))  # Half the PDF\n",
    "ci_low, ci_high = x.mean() - half_width,  x.mean() + half_width\n",
    "ci_low, ci_high = np.exp(ci_low), np.exp(ci_high)\n",
    "mu = np.exp(x.mean())\n",
    "\n",
    "print('The classical mean of Curb Weight is %.2f' % mu)\n",
    "print('The classical {}% CI is {:.2f} ,s {:.2f}'.format(100*(1-alpha), ci_low, ci_high))\n",
    "\n",
    "ci_low, ci_high = classical_ci_std(np.exp(x))\n",
    "print('The classical standard deviation of MPG is %.2f' % np.std(np.exp(x)))\n",
    "print('The classical {}% CI is {:.2f} , {:.2f}'.format(100*(1-alpha), ci_low, ci_high))"
   ]
  },
  {
   "cell_type": "code",
   "execution_count": 116,
   "metadata": {},
   "outputs": [
    {
     "name": "stdout",
     "output_type": "stream",
     "text": [
      "--------------------MPG--------------------\n",
      "The CI on bootstrap mean of MPG is 27.57:31.04\n",
      "The CI on bootstrap stdev of MPG is 4.79:7.60\n",
      "--------------------Curb Weight--------------------\n",
      "The CI on bootstrap mean of Curb-Weight is 2298.22:2541.56\n",
      "The CI on bootstrap stdev of Curb-Weight is 1.17:1.24\n"
     ]
    }
   ],
   "source": [
    "# Boostrap Methods\n",
    "n_replicas = 10000\n",
    "p = 0.05\n",
    "\n",
    "print(20*'-' + 'MPG' + 20*'-')\n",
    "x = auto_price.mpg\n",
    "bootstrap_means = pd.Series([x.sample(frac=1, replace=True).mean() for i in range(n_replicas)])\n",
    "print(\"The CI on bootstrap mean of {} is {:.2f}:{:.2f}\".format(\"MPG\", np.percentile(bootstrap_means, p/2.), \n",
    "                                                       np.percentile(bootstrap_means, 100-p/2.)))\n",
    "\n",
    "bootstrap_std = pd.Series([np.std(x.sample(frac=1, replace=True)) for i in range(n_replicas)])\n",
    "print(\"The CI on bootstrap stdev of {} is {:.2f}:{:.2f}\".format(\"MPG\", np.percentile(bootstrap_std, p/2.), \n",
    "                                                        np.percentile(bootstrap_std, 100-p/2.)))\n",
    "\n",
    "print(20*'-' + 'Curb Weight' + 20*'-')\n",
    "x = np.log(auto_price.loc[:,\"curb-weight\"])\n",
    "bootstrap_means = pd.Series([x.sample(frac=1, replace=True).mean() for i in range(n_replicas)])\n",
    "print(\"The CI on bootstrap mean of {} is {:.2f}:{:.2f}\".format(\"Curb-Weight\", np.exp(np.percentile(bootstrap_means, p/2.)), \n",
    "                                                       np.exp(np.percentile(bootstrap_means, 100-p/2.))))\n",
    "\n",
    "bootstrap_std = pd.Series([np.std(x.sample(frac=1, replace=True)) for i in range(n_replicas)])\n",
    "print(\"The CI on bootstrap stdev of {} is {:.2f}:{:.2f}\".format(\"Curb-Weight\", np.exp(np.percentile(bootstrap_std, p/2.)), \n",
    "                                                        np.exp(np.percentile(bootstrap_std, 100-p/2.))))"
   ]
  },
  {
   "cell_type": "markdown",
   "metadata": {},
   "source": [
    "The 95% confidence intervals on these values indicate that, if had 100 samples drawn from the same underlying population, 95 of the time the mean of those samples would fall between the lower and upper confidence bounds. This concept applies to the classical and bootstrap confidence intervals. The Baysian credible interval is a similar concept. We've done all three estimates for three variables, MPG, curb weight, and price. We did it for mean for the 3 methods and stdev for classical & bootstrap. Generally speaking, the CIs span similar central values, but have different widths/intervals. The bootstrap and Baysian CI are the tightest ie have the narrowest bounds; both methods involve resampling by which we can narrow our expectations for what kinds of stats we expect to see. Notable: the bootstrap had 10x as many resamples as the Bayes but similar if not slightly widder CIs than Baysiean inference. Classical CIs were larger than either of the other two, which makes sense as it is based on only 200 points total."
   ]
  },
  {
   "cell_type": "markdown",
   "metadata": {},
   "source": [
    "** Part four: Correctly use hypothesis tests to determine if the differences in pairs and multiple populations are significant:**\n",
    "For this I am focusing on the differences in terms of MEANS. According to discussions on Canvas and with Yusuf, we do not need to do this for differences in variance. I'd like to if I had time, but unfortunately I do not.\n",
    "\n",
    "1. Classical tests: Since all my variables are multiple categories, this will be Standard ANOVA\n",
    "2. Tukey’s Honest Significant Differences (HSD)\n",
    "3. Bootstrap methods\n",
    "4. Bayesian model"
   ]
  },
  {
   "cell_type": "markdown",
   "metadata": {},
   "source": [
    "My thoughts on the bootstrap test of difference of means: My college stats textbook describes a few different ways to do this, including the method of permutation testing. That is not the same as bootstrapping as we've practiced it in this class, because it operates on data without replacement. We haven't really talked about hypothesis testing with bootstrapping in this class. The nearest thing we've discussed is bootstrapping the difference in means of two groups, and determining if the confidence interval of the resulting distribution overlaps the 0.0 mark. So that is what I am going to do.\n",
    "\n",
    "Yusuf specified that I should \"pick two features with two categories and one feature with more than two categories\" for this part of the assignment. I will be using MPG as the feature with two and more than two categories, because I'm most interested in fuel efficiecy. To meet the standards of the assignment I will also do price. "
   ]
  },
  {
   "cell_type": "code",
   "execution_count": 117,
   "metadata": {},
   "outputs": [
    {
     "name": "stdout",
     "output_type": "stream",
     "text": [
      "Unique values of engine-type: ['ohc' 'l' 'dohc' 'ohcv' 'ohcf']\n",
      "Unique values of num-of-cylinders: ['four' 'five' 'six' 'three' 'eight']\n",
      "Unique values of make-origin: ['germany' 'usa' 'japan' 'uk' 'france' 'sweden']\n"
     ]
    }
   ],
   "source": [
    "# Remind us what the categorical variables and values are\n",
    "for column in strcols:\n",
    "    print(\"Unique values of {}: {}\".format(column, auto_price.loc[:,\"\"+column].unique()))"
   ]
  },
  {
   "cell_type": "code",
   "execution_count": 118,
   "metadata": {
    "collapsed": true
   },
   "outputs": [],
   "source": [
    "# These are our replicas for bootstrapping differences of means, and the alpha value for our CIs|\n",
    "n_replicas = 10\n",
    "p = 0.05"
   ]
  },
  {
   "cell_type": "code",
   "execution_count": 119,
   "metadata": {
    "collapsed": true
   },
   "outputs": [],
   "source": [
    "# Here we define functions to group the data according to a variable, and to plot baysian credible intervals.\n",
    "\n",
    "def plot_ci(p, post, num_samples = 10000, lower_q = 0.025, upper_q = 0.975):\n",
    "    ## This function computes a Baysian credible interval using an assumption\n",
    "    ## of symmetry in the bulk of the distribution to keep the \n",
    "    ## calculation simple. \n",
    "    ## Compute a large sample by resampling with replacement\n",
    "    samples = np.random.choice(p, size=num_samples, replace=True, p=post)\n",
    "    ci = scipy.percentile(samples, [lower_q*100, upper_q*100]) # compute the quantiles\n",
    "    \n",
    "    interval = upper_q - lower_q\n",
    "    pyplot.title('Posterior density with %.3f credible interval' % interval)\n",
    "    pyplot.plot(p, post, color='blue')\n",
    "    pyplot.xlabel('Parameter value')\n",
    "    pyplot.ylabel('Density')\n",
    "    pyplot.axvline(x=ci[0], color='red')\n",
    "    pyplot.axvline(x=ci[1], color='red')\n",
    "    print('The %.3f credible interval is %.3f to %.3f' \n",
    "          % (interval, lower_q, upper_q))\n",
    "    \n",
    "\n",
    "# Gather up groups of pvar split along all the unique categories of another column. Return a list of series containing\n",
    "# the grouped data, and also return a list of group-names corresponding to the data (for use in Tukey HSD)\n",
    "\n",
    "def group_conditioned(column = 'body-style', pvar = 'price'):\n",
    "    # Return groups and list of data grouped by column\n",
    "    print('Conditioning on: {}'.format(column))\n",
    "    choices = auto_price.loc[:,column].unique()\n",
    "\n",
    "    # Create groups based on these stratifications. USE A DICTIONARY\n",
    "    d = {}\n",
    "    groups = []\n",
    "    valid_choices = []\n",
    "    for choice in choices:\n",
    "        x = auto_price.loc[auto_price.loc[:, column] == choice, pvar]  # DATA for this style\n",
    "        print(\"{0} entries in {1}\".format(len(x), choice))  \n",
    "        if len(x) < 10:\n",
    "            print(\"Not including {} as it has fewer than 10 entries\".format(choice))\n",
    "            continue     \n",
    "            \n",
    "        d[\"{0}\".format(choice)] = x # Assign data to dictionary object named for this style\n",
    "        groups += len(x)* [\"{0}\".format(choice)]  # Record the groups for these entries to use later\n",
    "        valid_choices.append(choice)\n",
    "        \n",
    "    print(\"The keys in my dictionary are: \" + ','.join([k for k in d.keys()]))        \n",
    "    result = [d[valid_c] for valid_c in valid_choices]\n",
    "    return(groups, result)\n",
    "\n",
    "\n"
   ]
  },
  {
   "cell_type": "code",
   "execution_count": 120,
   "metadata": {
    "collapsed": true
   },
   "outputs": [
    {
     "name": "stdout",
     "output_type": "stream",
     "text": [
      "********************MPG - Fuel Efficiency Analysis********************\n",
      "--------------------Engine-Type--------------------\n",
      "Conditioning on: engine-type\n",
      "123 entries in ohc\n",
      "8 entries in l\n",
      "Not including l as it has fewer than 10 entries\n",
      "8 entries in dohc\n",
      "Not including dohc as it has fewer than 10 entries\n",
      "8 entries in ohcv\n",
      "Not including ohcv as it has fewer than 10 entries\n",
      "12 entries in ohcf\n",
      "The keys in my dictionary are: ohc,ohcf\n",
      "F statistic = 1.25059411616\n",
      "P-value = 0.265454859132\n",
      "Multiple Comparison of Means - Tukey HSD,FWER=0.05\n",
      "============================================\n",
      "group1 group2 meandiff  lower  upper  reject\n",
      "--------------------------------------------\n",
      " ohc    ohcf  -1.9014  -5.2645 1.4617 False \n",
      "--------------------------------------------\n",
      "Alpha:0.05\n",
      "The CI on bootstrap diff (OHC - OHCF) mean of MPG is 0.658591463414632:3.179846036585366\n",
      "--------------------\n",
      "Bayes CI on OHC\n",
      "The 0.950 credible interval is 29.434 to 31.416\n",
      "The Baysian mean is: 30.458\n",
      "Bayes CI on OHCF\n",
      "The 0.950 credible interval is 26.764 to 30.310\n",
      "The Baysian mean is: 28.537\n"
     ]
    }
   ],
   "source": [
    "# MPG\n",
    "print('*'*20 + \"MPG - Fuel Efficiency Analysis\" + '*'*20)\n",
    "pvar = 'mpg'\n",
    "# Run the classical ANOVA F-Test; Tukey HSD Test; Boostrap difference of means test; and Baysian difference of means test\n",
    "# Do all four for each variable one at a time\n",
    "\n",
    "# Engine Type: ANOVA, Tukey HSD, and Boostrap Difference of Means Tests\n",
    "print(20*'-'+ 'Engine-Type' + 20*'-')\n",
    "# First, Classical f-test (anova) in which we also create our groups and drop any with two few entries (<10)\n",
    "groups, d = group_conditioned('engine-type', pvar) \n",
    "f_statistic, p_value = ss.f_oneway(*d)  # *d unpacks the list into series for the f_oneway function\n",
    "print('F statistic = ' + str(f_statistic))\n",
    "print('P-value = ' + str(p_value))\n",
    "\n",
    "# Second, do a Tukey HSD test on the groups\n",
    "df = np.concatenate(d).flatten()\n",
    "Tukey_HSD = pairwise_tukeyhsd(df, groups)\n",
    "print(Tukey_HSD)\n",
    "\n",
    "# Third, bootstrap the difference of means and if the CI encompasses 0, cannot reject null hypothesis\n",
    "print(\"Alpha:{}\".format(alpha))\n",
    "bootstrap_diff_means = pd.Series([d[0].sample(frac=1, replace=True).mean() - d[1].sample(frac=1, replace=True).mean()\n",
    "                             for i in range(n_replicas)])\n",
    "lower_ci = np.percentile(bootstrap_diff_means, alpha/2.)\n",
    "upper_ci = np.percentile(bootstrap_diff_means, 100-alpha/2.)\n",
    "print(\"The CI on bootstrap diff ({} - {}) mean of {} is {}:{}\".format(\"OHC\", \"OHCF\", \"MPG\",lower_ci, upper_ci))\n",
    "\n",
    "print('-'*20)\n",
    "# Fourth, Baysian test to see if CI on pair of variables overlap\n",
    "N = 1000\n",
    "vec = d[0]\n",
    "p = np.linspace(min(vec), max(vec), num=N)\n",
    "# create a prior\n",
    "norm_prior = scipy.stats.norm.pdf(p, loc=vec.mean(), scale=5)\n",
    "norm_prior = norm_prior / norm_prior.sum() # normalize\n",
    "like = comp_like_gauss(p, vec)\n",
    "post = posterior(norm_prior, like)\n",
    "print(\"Bayes CI on OHC\")\n",
    "print_ci(p, post)\n",
    "print(\"The Baysian mean is: {0:.3f}\".format(bayes_mean(p,post))) \n",
    "\n",
    "vec = d[1]\n",
    "p = np.linspace(min(vec), max(vec), num=N)\n",
    "# create a prior\n",
    "norm_prior = scipy.stats.norm.pdf(p, loc=vec.mean(), scale=5)\n",
    "norm_prior = norm_prior / norm_prior.sum() # normalize\n",
    "like = comp_like_gauss(p, vec)\n",
    "post = posterior(norm_prior, like)\n",
    "print(\"Bayes CI on OHCF\")\n",
    "print_ci(p, post)\n",
    "print(\"The Baysian mean is: {0:.3f}\".format(bayes_mean(p,post))) "
   ]
  },
  {
   "cell_type": "markdown",
   "metadata": {},
   "source": [
    "The dependence of MPG/fuel efficiency on engine type; we would need more data to determine if there is a significant difference between the two groups. Given this dataset, at the 95% confidence level, we cannot reject the null hypothesis that the two sub populations have the same mean MPG. The classical ANOVA approach supports this: P = 0.26, no rejection of a null hypothesis. When we use the Tukey test, it is the same result. Likewise when we bootstrap the difference of means, the confidence interval is  spanning zero. Finally in the Baysian analysis, the credible interval on the two groups have considerable intersection; cannot reject the null hypothesis. Note that with random sampling, the specific results will vary a bit, but this is how I saw it go most of the times I ran it."
   ]
  },
  {
   "cell_type": "code",
   "execution_count": 121,
   "metadata": {},
   "outputs": [
    {
     "name": "stdout",
     "output_type": "stream",
     "text": [
      "--------------------Number of Cylinders--------------------\n",
      "Conditioning on: num-of-cylinders\n",
      "136 entries in four\n",
      "7 entries in five\n",
      "Not including five as it has fewer than 10 entries\n",
      "14 entries in six\n",
      "1 entries in three\n",
      "Not including three as it has fewer than 10 entries\n",
      "1 entries in eight\n",
      "Not including eight as it has fewer than 10 entries\n",
      "The keys in my dictionary are: four,six\n",
      "F statistic = 34.0572109047\n",
      "P-value = 3.25288597376e-08\n",
      "Multiple Comparison of Means - Tukey HSD,FWER=0.05\n",
      "==============================================\n",
      "group1 group2 meandiff  lower    upper  reject\n",
      "----------------------------------------------\n",
      " four   six   -8.7185  -11.6707 -5.7663  True \n",
      "----------------------------------------------\n",
      "The CI on bootstrap diff (Four - Six) mean of MPG is 7.98:10.24\n",
      "Bayes CI on Four Cylinders\n",
      "The 0.950 credible interval is 29.461 to 31.416\n",
      "The Baysian mean is: 30.391\n",
      "Bayes CI on Six Cylinders\n",
      "The 0.950 credible interval is 20.499 to 22.963\n",
      "The Baysian mean is: 21.679\n"
     ]
    }
   ],
   "source": [
    "# Number-of-Cylinders: : ANOVA, Tukey HSD, and Boostrap Difference of Means Tests\n",
    "print(20*'-'+ 'Number of Cylinders' + 20*'-')\n",
    "# First, Classical f-test (anova) in which we also create our groups and drop any with two few entries (<10)\n",
    "groups, d = group_conditioned('num-of-cylinders', pvar) \n",
    "f_statistic, p_value = ss.f_oneway(*d)\n",
    "print('F statistic = ' + str(f_statistic))\n",
    "print('P-value = ' + str(p_value))\n",
    "\n",
    "# Second, do a Tukey HSD test on the groups\n",
    "df = np.concatenate(d).flatten()\n",
    "Tukey_HSD = pairwise_tukeyhsd(df, groups)\n",
    "print(Tukey_HSD)\n",
    "\n",
    "# Third, bootstrap the difference of means and if the CI encompasses 0, cannot reject null hypothesis\n",
    "bootstrap_diff_means = pd.Series([d[0].sample(frac=1, replace=True).mean() - d[1].sample(frac=1, replace=True).mean()\n",
    "                             for i in range(n_replicas)])\n",
    "lower_ci = np.percentile(bootstrap_diff_means, alpha/2.)\n",
    "upper_ci = np.percentile(bootstrap_diff_means, 100-alpha/2.)\n",
    "print(\"The CI on bootstrap diff ({} - {}) mean of {} is {:.2f}:{:.2f}\".format(\"Four\", \"Six\", \"MPG\",lower_ci, upper_ci))\n",
    "\n",
    "# Fourth, Baysian test to see if CI on pair of variables overlap\n",
    "N = 1000\n",
    "vec = d[0]\n",
    "p = np.linspace(min(vec), max(vec), num=N)\n",
    "# create a prior\n",
    "norm_prior = scipy.stats.norm.pdf(p, loc=vec.mean(), scale=5)\n",
    "norm_prior = norm_prior / norm_prior.sum() # normalize\n",
    "like = comp_like_gauss(p, vec)\n",
    "post = posterior(norm_prior, like)\n",
    "print(\"Bayes CI on Four Cylinders\")\n",
    "print_ci(p, post)\n",
    "print(\"The Baysian mean is: {0:.3f}\".format(bayes_mean(p,post))) \n",
    "\n",
    "vec = d[1]\n",
    "p = np.linspace(min(vec), max(vec), num=N)\n",
    "# create a prior\n",
    "norm_prior = scipy.stats.norm.pdf(p, loc=vec.mean(), scale=5)\n",
    "norm_prior = norm_prior / norm_prior.sum() # normalize\n",
    "like = comp_like_gauss(p, vec)\n",
    "post = posterior(norm_prior, like)\n",
    "print(\"Bayes CI on Six Cylinders\")\n",
    "print_ci(p, post)\n",
    "print(\"The Baysian mean is: {0:.3f}\".format(bayes_mean(p,post))) "
   ]
  },
  {
   "cell_type": "markdown",
   "metadata": {},
   "source": [
    "There is a demonstrable dependence of MPG/Fuel efficiency on number of cylinders in this dataset. The classical ANOVA/F-test shows a large F value and a tiny, tiny p-value which allows us to comfortably reject the null hypothesis that the mean MPG is the same regardless of number of cylinders. The Tukey HSD test gives us more detail: the mean difference between the two groups is -8.72mpg, with the four cylinder cars being more fuel efficient, and we stil reject the null. When we bootstrap the difference of means (four minus six cylinders) the 95% confidence interval spans 6.1:11.2, a positive range of values far from zero and in fact spanning the delta given by the Tukey test. The Baysian conclusion agrees: with no region of overlap between the credible intervals for mpg-4cylinder and mpg-6cylinder, we can conclude that these populations have statistically different means, and the four cylinder cars are more efficient. "
   ]
  },
  {
   "cell_type": "code",
   "execution_count": 122,
   "metadata": {},
   "outputs": [
    {
     "name": "stdout",
     "output_type": "stream",
     "text": [
      "********************Price -- Cost Analysis********************\n",
      "--------------------Engine-Type--------------------\n",
      "Conditioning on: engine-type\n",
      "123 entries in ohc\n",
      "8 entries in l\n",
      "Not including l as it has fewer than 10 entries\n",
      "8 entries in dohc\n",
      "Not including dohc as it has fewer than 10 entries\n",
      "8 entries in ohcv\n",
      "Not including ohcv as it has fewer than 10 entries\n",
      "12 entries in ohcf\n",
      "The keys in my dictionary are: ohc,ohcf\n",
      "F statistic = 1.80637908402\n",
      "P-value = 0.181231400351\n",
      " Multiple Comparison of Means - Tukey HSD,FWER=0.05 \n",
      "====================================================\n",
      "group1 group2  meandiff    lower      upper   reject\n",
      "----------------------------------------------------\n",
      " ohc    ohcf  -2130.1159 -5264.9644 1004.7327 False \n",
      "----------------------------------------------------\n",
      "Alpha:0.05\n",
      "The CI on bootstrap diff (OHC - OHCF) mean of Price is 991.7796143292683:3315.3641681910567\n",
      "--------------------\n",
      "Bayes CI on OHC\n",
      "The 0.950 credible interval is 10666.306 to 10666.306\n",
      "The Baysian mean is: 10666.306\n",
      "Bayes CI on OHCF\n",
      "The 0.950 credible interval is 8534.360 to 8547.526\n",
      "The Baysian mean is: 8540.943\n"
     ]
    }
   ],
   "source": [
    "# Price\n",
    "print('*'*20 + \"Price -- Cost Analysis\" + '*'*20)\n",
    "pvar = 'price'\n",
    "# Run the classical ANOVA F-Test; Tukey HSD Test; Boostrap difference of means test; and Baysian difference of means test\n",
    "# Do all four for each variable one at a time\n",
    "\n",
    "# Engine Type: ANOVA, Tukey HSD, and Boostrap Difference of Means Tests\n",
    "print(20*'-'+ 'Engine-Type' + 20*'-')\n",
    "# First, Classical f-test (anova) in which we also create our groups and drop any with two few entries (<10)\n",
    "groups, d = group_conditioned('engine-type', pvar) \n",
    "f_statistic, p_value = ss.f_oneway(*d)  # *d unpacks the list into series for the f_oneway function\n",
    "print('F statistic = ' + str(f_statistic))\n",
    "print('P-value = ' + str(p_value))\n",
    "\n",
    "# Second, do a Tukey HSD test on the groups\n",
    "df = np.concatenate(d).flatten()\n",
    "Tukey_HSD = pairwise_tukeyhsd(df, groups)\n",
    "print(Tukey_HSD)\n",
    "\n",
    "# Third, bootstrap the difference of means and if the CI encompasses 0, cannot reject null hypothesis\n",
    "print(\"Alpha:{}\".format(alpha))\n",
    "bootstrap_diff_means = pd.Series([d[0].sample(frac=1, replace=True).mean() - d[1].sample(frac=1, replace=True).mean()\n",
    "                             for i in range(n_replicas)])\n",
    "lower_ci = np.percentile(bootstrap_diff_means, alpha/2.)\n",
    "upper_ci = np.percentile(bootstrap_diff_means, 100-alpha/2.)\n",
    "print(\"The CI on bootstrap diff ({} - {}) mean of {} is {}:{}\".format(\"OHC\", \"OHCF\", \"Price\",lower_ci, upper_ci))\n",
    "\n",
    "print('-'*20)\n",
    "# Fourth, Baysian test to see if CI on pair of variables overlap\n",
    "N = 1000\n",
    "vec = d[0]\n",
    "p = np.linspace(min(vec), max(vec), num=N)\n",
    "# create a prior\n",
    "norm_prior = scipy.stats.norm.pdf(p, loc=vec.mean(), scale=5)\n",
    "norm_prior = norm_prior / norm_prior.sum() # normalize\n",
    "like = comp_like_gauss(p, vec)\n",
    "post = posterior(norm_prior, like)\n",
    "print(\"Bayes CI on OHC\")\n",
    "print_ci(p, post)\n",
    "print(\"The Baysian mean is: {0:.3f}\".format(bayes_mean(p,post))) \n",
    "\n",
    "vec = d[1]\n",
    "p = np.linspace(min(vec), max(vec), num=N)\n",
    "# create a prior\n",
    "norm_prior = scipy.stats.norm.pdf(p, loc=vec.mean(), scale=5)\n",
    "norm_prior = norm_prior / norm_prior.sum() # normalize\n",
    "like = comp_like_gauss(p, vec)\n",
    "post = posterior(norm_prior, like)\n",
    "print(\"Bayes CI on OHCF\")\n",
    "print_ci(p, post)\n",
    "print(\"The Baysian mean is: {0:.3f}\".format(bayes_mean(p,post))) "
   ]
  },
  {
   "cell_type": "markdown",
   "metadata": {},
   "source": [
    "The dependence of price efficiency on engine type; we would need more data to determine if there is a significant difference between the two groups. Given this dataset, at the 95% confidence level, we cannot reject the null hypothesis that the two sub populations have the same mean price using classical methods. The classical ANOVA approach supports this: P = 0.18, no rejection of a null hypothesis. When we use the Tukey test, it is the same result. When we bootstrap the difference of means, the confidence interval is a range of positive values: which suggests there might be a positive difference in price between OHC and OHCF engine types. Finally in the Baysian analysis, the credible interval on the two groups have no overlap, suggesting that the OHC mean price is statistically different (and indeed, higher) at the 95% significance level. Ergo, the resampling methods point to a significant difference, while the classical methods do not. I'd prefer to have more data before I made a definitive statement about this relationship.\n",
    "\n",
    "Note that with random sampling, the specific results will vary a bit, but this is how I saw it go most of the times I ran it."
   ]
  },
  {
   "cell_type": "code",
   "execution_count": 123,
   "metadata": {},
   "outputs": [
    {
     "name": "stdout",
     "output_type": "stream",
     "text": [
      "--------------------Number of Cylinders--------------------\n",
      "Conditioning on: num-of-cylinders\n",
      "136 entries in four\n",
      "7 entries in five\n",
      "Not including five as it has fewer than 10 entries\n",
      "14 entries in six\n",
      "1 entries in three\n",
      "Not including three as it has fewer than 10 entries\n",
      "1 entries in eight\n",
      "Not including eight as it has fewer than 10 entries\n",
      "The keys in my dictionary are: four,six\n",
      "F statistic = 62.964493617\n",
      "P-value = 4.7856976031e-13\n",
      "Multiple Comparison of Means - Tukey HSD,FWER=0.05\n",
      "==================================================\n",
      "group1 group2  meandiff  lower     upper    reject\n",
      "--------------------------------------------------\n",
      " four   six   8920.3036 6698.807 11141.8001  True \n",
      "--------------------------------------------------\n",
      "The CI on bootstrap diff (Four - Six) mean of Price is -10472.27:-4904.71\n",
      "Bayes CI on Four Cylinders\n",
      "The 0.950 credible interval is 9884.671 to 9884.671\n",
      "The Baysian mean is: 9884.671\n",
      "Bayes CI on Six Cylinders\n",
      "The 0.950 credible interval is 18792.075 to 18810.845\n",
      "The Baysian mean is: 18792.075\n"
     ]
    }
   ],
   "source": [
    "# Number-of-Cylinders: : ANOVA, Tukey HSD, and Boostrap Difference of Means Tests\n",
    "print(20*'-'+ 'Number of Cylinders' + 20*'-')\n",
    "# First, Classical f-test (anova) in which we also create our groups and drop any with two few entries (<10)\n",
    "groups, d = group_conditioned('num-of-cylinders', pvar) \n",
    "f_statistic, p_value = ss.f_oneway(*d)\n",
    "print('F statistic = ' + str(f_statistic))\n",
    "print('P-value = ' + str(p_value))\n",
    "\n",
    "# Second, do a Tukey HSD test on the groups\n",
    "df = np.concatenate(d).flatten()\n",
    "Tukey_HSD = pairwise_tukeyhsd(df, groups)\n",
    "print(Tukey_HSD)\n",
    "\n",
    "# Third, bootstrap the difference of means and if the CI encompasses 0, cannot reject null hypothesis\n",
    "bootstrap_diff_means = pd.Series([d[0].sample(frac=1, replace=True).mean() - d[1].sample(frac=1, replace=True).mean()\n",
    "                             for i in range(n_replicas)])\n",
    "lower_ci = np.percentile(bootstrap_diff_means, alpha/2.)\n",
    "upper_ci = np.percentile(bootstrap_diff_means, 100-alpha/2.)\n",
    "print(\"The CI on bootstrap diff ({} - {}) mean of {} is {:.2f}:{:.2f}\".format(\"Four\", \"Six\", \"Price\",lower_ci, upper_ci))\n",
    "\n",
    "# Fourth, Baysian test to see if CI on pair of variables overlap\n",
    "N = 1000\n",
    "vec = d[0]\n",
    "p = np.linspace(min(vec), max(vec), num=N)\n",
    "# create a prior\n",
    "norm_prior = scipy.stats.norm.pdf(p, loc=vec.mean(), scale=5)\n",
    "norm_prior = norm_prior / norm_prior.sum() # normalize\n",
    "like = comp_like_gauss(p, vec)\n",
    "post = posterior(norm_prior, like)\n",
    "print(\"Bayes CI on Four Cylinders\")\n",
    "print_ci(p, post)\n",
    "print(\"The Baysian mean is: {0:.3f}\".format(bayes_mean(p,post))) \n",
    "\n",
    "vec = d[1]\n",
    "p = np.linspace(min(vec), max(vec), num=N)\n",
    "# create a prior\n",
    "norm_prior = scipy.stats.norm.pdf(p, loc=vec.mean(), scale=5)\n",
    "norm_prior = norm_prior / norm_prior.sum() # normalize\n",
    "like = comp_like_gauss(p, vec)\n",
    "post = posterior(norm_prior, like)\n",
    "print(\"Bayes CI on Six Cylinders\")\n",
    "print_ci(p, post)\n",
    "print(\"The Baysian mean is: {0:.3f}\".format(bayes_mean(p,post)))     "
   ]
  },
  {
   "cell_type": "markdown",
   "metadata": {},
   "source": [
    "There is a demonstrable dependence of price on number of cylinders in this dataset. The classical ANOVA/F-test shows a large F value and a tiny, tiny p-value which allows us to comfortably reject the null hypothesis that the mean price is the same regardless of number of cylinders. The Tukey HSD test gives us more detail: the mean difference between the two groups is 8920 dollars, with the six cylinder cars being more affordable, and we stil reject the null. When we bootstrap the difference of means (four minus six cylinders) the 95% confidence interval spans -11K:-6K, a negative range of values far from zero and in fact spanning the delta given by the Tukey test. The Baysian conclusion likewise shows that there is no overlap in the 95% credible intervals of price based on four cylinders (lower price) and six cylinders (higher price). Ergo all these methods point to rejecting the null hypothesis of same means, and concluding that the 4cylinder cars have statistically different (and lower) mean price than the 6 cylinder cars."
   ]
  },
  {
   "cell_type": "markdown",
   "metadata": {},
   "source": [
    "Switch gears back to MPG to explore dependence on a multi-categorical variable, country of origin:\n"
   ]
  },
  {
   "cell_type": "code",
   "execution_count": 124,
   "metadata": {},
   "outputs": [
    {
     "name": "stdout",
     "output_type": "stream",
     "text": [
      "********************MPG - Fuel Efficiency Analysis********************\n",
      "--------------------MPG: Country of Origin--------------------\n",
      "Conditioning on: make-origin\n",
      "22 entries in germany\n",
      "17 entries in usa\n",
      "95 entries in japan\n",
      "1 entries in uk\n",
      "Not including uk as it has fewer than 10 entries\n",
      "7 entries in france\n",
      "Not including france as it has fewer than 10 entries\n",
      "17 entries in sweden\n",
      "The keys in my dictionary are: germany,usa,japan,sweden\n",
      "F statistic = 12.742906393\n",
      "P-value = 1.89327513784e-07\n",
      "Multiple Comparison of Means - Tukey HSD,FWER=0.05\n",
      "===============================================\n",
      " group1 group2 meandiff  lower    upper  reject\n",
      "-----------------------------------------------\n",
      "germany japan   3.5278    0.11    6.9455  True \n",
      "germany sweden -3.2914   -7.956   1.3731 False \n",
      "germany  usa    7.2086   2.544   11.8731  True \n",
      " japan  sweden -6.8192  -10.6232 -3.0152  True \n",
      " japan   usa    3.6808  -0.1232   7.4848 False \n",
      " sweden  usa     10.5    5.5454  15.4546  True \n",
      "-----------------------------------------------\n"
     ]
    },
    {
     "data": {
      "image/png": "[encoded data removed]",
      "text/plain": [
       "<matplotlib.figure.Figure at 0x2573ce0e898>"
      ]
     },
     "execution_count": 124,
     "metadata": {},
     "output_type": "execute_result"
    },
    {
     "data": {
      "image/png": "[encoded data removed]",
      "text/plain": [
       "<matplotlib.figure.Figure at 0x2573ce0e898>"
      ]
     },
     "metadata": {},
     "output_type": "display_data"
    }
   ],
   "source": [
    "print('*'*20 + \"MPG - Fuel Efficiency Analysis\" + '*'*20)\n",
    "pvar = 'mpg'\n",
    "\n",
    "\n",
    "# MPG: Country of Origin: : ANOVA and Tukey HSD Difference of Means Tests; many categories so no bootstrap\n",
    "print(20*'-'+ 'MPG: Country of Origin' + 20*'-')\n",
    "groups, d = group_conditioned('make-origin', pvar) \n",
    "f_statistic, p_value = ss.f_oneway(*d)\n",
    "print('F statistic = ' + str(f_statistic))\n",
    "print('P-value = ' + str(p_value))\n",
    "\n",
    "df = np.concatenate(d).flatten()\n",
    "Tukey_HSD = pairwise_tukeyhsd(df, groups)\n",
    "print(Tukey_HSD)\n",
    "Tukey_HSD.plot_simultaneous()\n"
   ]
  },
  {
   "cell_type": "markdown",
   "metadata": {},
   "source": [
    "The ANOVA and Tukey HSD results on MPG dependence on country of origin shows that there are statistically significant differences among some of the groups, with an ANOVA p-value on the order of 10^-7. Specifically, the Tukey HSD test and figures show us that in this dataset, the USA origin cars have significantly different mean than Sweden and Germany, but not Japan. Japan is stastically different than Sweden, but not Germany or USA. I'm honestly a bit suprised the American cars are most efficient in this dataset and Sweden is least efficient; I wasn't expecting that outcome. \n"
   ]
  },
  {
   "cell_type": "markdown",
   "metadata": {},
   "source": [
    "Next: The country of origin has multiple categories so it's tedious to do a lot of bootstrap tests on the different pair possibilities. Instead, let's use the Tukey plot above to guide us towards comparing just the sets that are plausabily overlapping one another: USA and Japan; Japan and Germany; Sweden and Germany. In each case the difference is between the higher value(s) and the lower value(s)"
   ]
  },
  {
   "cell_type": "code",
   "execution_count": 125,
   "metadata": {},
   "outputs": [
    {
     "name": "stdout",
     "output_type": "stream",
     "text": [
      "The CI on bootstrap diff (Japan - Sweden) mean of MPG is 6.21:7.05\n",
      "The CI on bootstrap diff (Japan - Germany) mean of MPG is 2.83:5.12\n",
      "The CI on bootstrap diff (USA - Japan) mean of MPG is 0.93:6.92\n",
      "The CI on bootstrap diff (Germany - Sweden) mean of MPG is 2.02:4.45\n",
      "The CI on bootstrap diff (America - Japan) mean of MPG is 1.39:6.00\n",
      "The CI on bootstrap diff (America - Swedish) mean of MPG is 8.03:12.47\n",
      "The CI on bootstrap diff (America - Germany) mean of MPG is 3.34:11.40\n"
     ]
    }
   ],
   "source": [
    "# Boostrap Method for some of the make-origin possibilities\n",
    "\n",
    "japan_mpg = auto_price[auto_price.loc[:, 'make-origin'] == 'japan'].mpg\n",
    "german_mpg = auto_price[auto_price.loc[:, 'make-origin'] == 'germany'].mpg\n",
    "american_mpg = auto_price[auto_price.loc[:, 'make-origin'] == 'usa'].mpg\n",
    "swedish_mpg = auto_price[auto_price.loc[:, 'make-origin'] == 'sweden'].mpg\n",
    "\n",
    "\n",
    "bootstrap_diff_means = pd.Series([japan_mpg.sample(frac=1, replace=True).mean() - swedish_mpg.sample(frac=1, replace=True).mean()\n",
    "                             for i in range(n_replicas)])\n",
    "lower_ci = np.percentile(bootstrap_diff_means, alpha/2.)\n",
    "upper_ci = np.percentile(bootstrap_diff_means, 100-alpha/2.)\n",
    "print(\"The CI on bootstrap diff ({} - {}) mean of {} is {:.2f}:{:.2f}\".format(\"Japan\", \"Sweden\", \"MPG\",lower_ci, upper_ci))\n",
    "\n",
    "\n",
    "bootstrap_diff_means = pd.Series([japan_mpg.sample(frac=1, replace=True).mean() - german_mpg.sample(frac=1, replace=True).mean()\n",
    "                             for i in range(n_replicas)])\n",
    "lower_ci = np.percentile(bootstrap_diff_means, alpha/2.)\n",
    "upper_ci = np.percentile(bootstrap_diff_means, 100-alpha/2.)\n",
    "print(\"The CI on bootstrap diff ({} - {}) mean of {} is {:.2f}:{:.2f}\".format(\"Japan\", \"Germany\", \"MPG\",lower_ci, upper_ci))\n",
    "\n",
    "bootstrap_diff_means = pd.Series([american_mpg.sample(frac=1, replace=True).mean() - japan_mpg.sample(frac=1, replace=True).mean()\n",
    "                             for i in range(n_replicas)])\n",
    "lower_ci = np.percentile(bootstrap_diff_means, alpha/2.)\n",
    "upper_ci = np.percentile(bootstrap_diff_means, 100-alpha/2.)\n",
    "print(\"The CI on bootstrap diff ({} - {}) mean of {} is {:.2f}:{:.2f}\".format(\"USA\", \"Japan\", \"MPG\",lower_ci, upper_ci))\n",
    "\n",
    "bootstrap_diff_means = pd.Series([german_mpg.sample(frac=1, replace=True).mean() - swedish_mpg.sample(frac=1, replace=True).mean()\n",
    "                             for i in range(n_replicas)])\n",
    "lower_ci = np.percentile(bootstrap_diff_means, alpha/2.)\n",
    "upper_ci = np.percentile(bootstrap_diff_means, 100-alpha/2.)\n",
    "print(\"The CI on bootstrap diff ({} - {}) mean of {} is {:.2f}:{:.2f}\".format(\"Germany\", \"Sweden\", \"MPG\",lower_ci, upper_ci))\n",
    "\n",
    "bootstrap_diff_means = pd.Series([american_mpg.sample(frac=1, replace=True).mean() - japan_mpg.sample(frac=1, replace=True).mean()\n",
    "                             for i in range(n_replicas)])\n",
    "lower_ci = np.percentile(bootstrap_diff_means, alpha/2.)\n",
    "upper_ci = np.percentile(bootstrap_diff_means, 100-alpha/2.)\n",
    "print(\"The CI on bootstrap diff ({} - {}) mean of {} is {:.2f}:{:.2f}\".format(\"America\", \"Japan\", \"MPG\",lower_ci, upper_ci))\n",
    "\n",
    "bootstrap_diff_means = pd.Series([american_mpg.sample(frac=1, replace=True).mean() - swedish_mpg.sample(frac=1, replace=True).mean()\n",
    "                             for i in range(n_replicas)])\n",
    "lower_ci = np.percentile(bootstrap_diff_means, alpha/2.)\n",
    "upper_ci = np.percentile(bootstrap_diff_means, 100-alpha/2.)\n",
    "print(\"The CI on bootstrap diff ({} - {}) mean of {} is {:.2f}:{:.2f}\".format(\"America\", \"Swedish\", \"MPG\",lower_ci, upper_ci))\n",
    "\n",
    "bootstrap_diff_means = pd.Series([american_mpg.sample(frac=1, replace=True).mean() - german_mpg.sample(frac=1, replace=True).mean()\n",
    "                             for i in range(n_replicas)])\n",
    "lower_ci = np.percentile(bootstrap_diff_means, alpha/2.)\n",
    "upper_ci = np.percentile(bootstrap_diff_means, 100-alpha/2.)\n",
    "print(\"The CI on bootstrap diff ({} - {}) mean of {} is {:.2f}:{:.2f}\".format(\"America\", \"Germany\", \"MPG\",lower_ci, upper_ci))"
   ]
  },
  {
   "cell_type": "markdown",
   "metadata": {},
   "source": [
    "The Tukey HSD test and figures showed us that in this dataset, the USA origin cars have significantly different mean than Sweden and Germany, but not Japan. Japan is stastically different than Sweden, but not Germany or USA. When we bootstrap the difference in means, we get pretty similar outcomes. Japan - Sweden is positive and does not span zero; we can reject the null hypothesis and conclude the Japanese cars are more efficient than Swedish cars. That is true for American cars relative to Swedish cars, and American cars relative to German cars (although that one is a bit less certain, it is possible to get a CI that includes zero depending on the sampling). Japan and Germany, Japan and USA pairs have bootstrapped differences with CI spanning 0.0 - they are not statistically different. Likewise with America - Japan. That is exactly what we expected from the Tukey results."
   ]
  },
  {
   "cell_type": "code",
   "execution_count": 126,
   "metadata": {},
   "outputs": [
    {
     "name": "stdout",
     "output_type": "stream",
     "text": [
      "--------------------Bayes--------------------\n",
      "America\n",
      "The 0.950 credible interval is 31.200 to 36.851\n",
      "Japan\n",
      "The 0.950 credible interval is 29.366 to 31.544\n",
      "Germany\n",
      "The 0.950 credible interval is 24.135 to 29.630\n",
      "Sweden\n",
      "The 0.950 credible interval is 22.576 to 24.686\n"
     ]
    }
   ],
   "source": [
    "# Baysian CI for Japan, Germany, USA, and Sweden\n",
    "# Fourth, Baysian test to see if CI on pair of variables overlap\n",
    "\n",
    "print('-'*20+ \"Bayes\" + '-'*20)\n",
    "vec = american_mpg\n",
    "p = np.linspace(min(vec), max(vec), num=N)\n",
    "# create a prior\n",
    "norm_prior = scipy.stats.norm.pdf(p, loc=vec.mean(), scale=5)\n",
    "norm_prior = norm_prior / norm_prior.sum() # normalize\n",
    "like = comp_like_gauss(p, vec)\n",
    "post = posterior(norm_prior, like)\n",
    "print(\"America\")\n",
    "print_ci(p, post) \n",
    "\n",
    "vec = japan_mpg\n",
    "p = np.linspace(min(vec), max(vec), num=N)\n",
    "# create a prior\n",
    "norm_prior = scipy.stats.norm.pdf(p, loc=vec.mean(), scale=5)\n",
    "norm_prior = norm_prior / norm_prior.sum() # normalize\n",
    "like = comp_like_gauss(p, vec)\n",
    "post = posterior(norm_prior, like)\n",
    "print(\"Japan\")\n",
    "print_ci(p, post)\n",
    "\n",
    "vec = german_mpg\n",
    "p = np.linspace(min(vec), max(vec), num=N)\n",
    "# create a prior\n",
    "norm_prior = scipy.stats.norm.pdf(p, loc=vec.mean(), scale=5)\n",
    "norm_prior = norm_prior / norm_prior.sum() # normalize\n",
    "like = comp_like_gauss(p, vec)\n",
    "post = posterior(norm_prior, like)\n",
    "print(\"Germany\")\n",
    "print_ci(p, post)  \n",
    "\n",
    "vec = swedish_mpg\n",
    "p = np.linspace(min(vec), max(vec), num=N)\n",
    "# create a prior\n",
    "norm_prior = scipy.stats.norm.pdf(p, loc=vec.mean(), scale=5)\n",
    "norm_prior = norm_prior / norm_prior.sum() # normalize\n",
    "like = comp_like_gauss(p, vec)\n",
    "post = posterior(norm_prior, like)\n",
    "print(\"Sweden\")\n",
    "print_ci(p, post)  \n"
   ]
  },
  {
   "cell_type": "markdown",
   "metadata": {},
   "source": [
    "The Baysian results agree completely with the Tukey and Bootstrap results. Ranked from most efficient to least efficient: American, Japanese, German, Swedish cars. American cars MPG have no overlap with German or Swedish, but a small overlap with Japanese. Japan has overlap with Germany but not with Sweden. Germany overlaps with Sweden, but just a little. \n"
   ]
  },
  {
   "cell_type": "markdown",
   "metadata": {},
   "source": [
    "** Conclusion**\n",
    "\n",
    "In this milestone I have explored the distributions of MPG, price, and curb weight. I began by cleaning the dataset, determining that I could safely combine city-mpg and highway-mpg, and picking out a set of variables that we haven't delved into prior to this assignmnet, and which had a relationship with MPG. I recoded the manufacturer column into a country of origin column so we could get some insight into where cars came from, which a prior might be expected to make a difference based on different regulatory environments in different places. \n",
    "\n",
    "I fit distributions to these, then used classical, bootstrap, and Baysian methods to calculate statistics & confidence intervals on those statistics. The different methods had many of the same results, but we also saw how the bootstrap and Bayes methods resulted in tighter confidence intervals. However the bootstrap appraoch made it really easy to calculate CI on standard deviation, whereas the Bayes approach made that pretty difficult.\n",
    "\n",
    "Then I performed hypothesis testing to explore the dependence of efficiency, represented by MPG, on engine type, number of cylinders, and country of origin. The engine type did not have a detectable effect on MPG, and ideally we would have more data to explore this relationship. Number of cylinders did have an effect: four cylinder cars were more fuel efficient than six cylinder cars, which matches our intuition about cars. Country of origin also had a noticeable, but obviously more complicated, relationship with MPG. There were detectable differences between some countries, but not between other. Surprisingly, American cars were most efficient and Swedish cars were least efficient. Japanese and German cars were in the middle. \n",
    "\n",
    "I also performed hypothesis testing to explore the dependence of price on engine type and number of cylinders. Engine type did not make a difference, but number of cylinders did. Four cylinder cars were generally more affordable than six cylinder cars. Apparently if you want an affordable, efficient car, buy an American 4-cylinder!\n",
    "\n",
    "Each of these three variables had additional categories which were not included because they had fewer than 10 entries. If we had a much larger dataset, we could include those categories and seek additional insights. \n",
    "\n",
    "In the future, I would like to develop a regression model to determine how well we can predict fuel efficiency based on number of cylinders and country of origin, and possibly other variables. "
   ]
  }
 ],
 "metadata": {
  "kernelspec": {
   "display_name": "Python 2",
   "language": "python",
   "name": "python2"
  },
  "language_info": {
   "codemirror_mode": {
    "name": "ipython",
    "version": 2
   },
   "file_extension": ".py",
   "mimetype": "text/x-python",
   "name": "python",
   "nbconvert_exporter": "python",
   "pygments_lexer": "ipython2",
   "version": "2.7.15"
  }
 },
 "nbformat": 4,
 "nbformat_minor": 1
}
